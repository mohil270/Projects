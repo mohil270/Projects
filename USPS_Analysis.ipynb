{
  "nbformat": 4,
  "nbformat_minor": 0,
  "metadata": {
    "colab": {
      "provenance": []
    },
    "kernelspec": {
      "name": "python3",
      "display_name": "Python 3"
    },
    "language_info": {
      "name": "python"
    }
  },
  "cells": [
    {
      "cell_type": "code",
      "metadata": {
        "id": "w2A0Nvy0j7mB"
      },
      "source": [
        "%%capture\n",
        "\n",
        "!pip install ipython-sql\n",
        "!pip install databases\n",
        "!pip install databases[sqlite]"
      ],
      "execution_count": null,
      "outputs": []
    },
    {
      "cell_type": "code",
      "metadata": {
        "id": "gu5TDd_vkBBG"
      },
      "source": [
        "import sqlalchemy\n",
        "%load_ext sql\n",
        "%sql sqlite:///projectdb.db"
      ],
      "execution_count": null,
      "outputs": []
    },
    {
      "cell_type": "code",
      "metadata": {
        "colab": {
          "base_uri": "https://localhost:8080/"
        },
        "id": "EHNstouCkFck",
        "outputId": "f575ff69-9aac-4243-8a73-fbf04330286c"
      },
      "source": [
        "%%sql\n",
        "\n",
        "  DROP TABLE IF EXISTS [Guest];\n",
        "  CREATE TABLE [Guest] (\n",
        "    [memberID] INTEGER PRIMARY KEY,\n",
        "    [memberName] nvarchar(250) NOT NULL,\n",
        "    [memberEmail] nvarchar(250),\n",
        "    [memberAddress] nvarchar(250)\n",
        "  );\n",
        "\n",
        "  DROP TABLE IF EXISTS [Mail];\n",
        "  CREATE TABLE [Mail] (\n",
        "    [mailmaninfo] nvarchar(250)  ,\n",
        "    [FastTrack] nvarchar(250),\n",
        "    [updates] nvarchar(250)\n",
        "  );\n",
        "\n",
        "  DROP TABLE IF EXISTS [Tracking];\n",
        "  CREATE TABLE [Tracking] (\n",
        "    [trackingID] INTEGER PRIMARY KEY,\n",
        "    [packageinfo] nvarchar(250),\n",
        "    [updates] nvarchar(250)\n",
        "  );\n",
        "\n",
        "  DROP TABLE IF EXISTS [GuestPayInfo];\n",
        "  CREATE TABLE [GuestPayInfo] (\n",
        "    [memberID] INTEGER PRIMARY KEY,\n",
        "    [memberCardName] nvarchar(250) NOT NULL,\n",
        "    [memberCardNumber] [int],\n",
        "    [memberCardExpiration] nvarchar(250),\n",
        "    [memberCardCSV] [int],\n",
        "    [trackingID] [int] ,\n",
        "    [packageinfo] nvarchar(350)\n",
        "\n",
        "\n",
        "\n",
        "  );\n",
        "\n",
        "\n",
        "  DROP TABLE IF EXISTS [PostalStore];\n",
        "  CREATE TABLE [PostalStore] (\n",
        "    [storeID] INTEGER PRIMARY KEY,\n",
        "    [phonenumber] [int]\n",
        "    [street] nvarchar(250),\n",
        "    [city] nvarchar(250),\n",
        "    [state] nvarchar(250),\n",
        "    [zipcode] [int],\n",
        "    [contactID] [int]\n",
        "  );\n",
        "\n",
        "  DROP TABLE IF EXISTS [Recieve];\n",
        "  CREATE TABLE [Recieve] (\n",
        "    [packageinfo]  nvarchar(250),\n",
        "    [mailmaninfo] nvarchar(250)\n",
        "\n",
        "\n",
        "  );\n",
        "\n",
        "  DROP TABLE IF EXISTS [contactUs];\n",
        "  CREATE TABLE [contactUs] (\n",
        "    [contactID]  INTEGER PRIMARY KEY,\n",
        "    [phonenumber] [int],\n",
        "    [chatwithagent] nvarchar(250)\n",
        "\n",
        "\n",
        "  );"
      ],
      "execution_count": null,
      "outputs": [
        {
          "output_type": "stream",
          "text": [
            " * sqlite:///projectdb.db\n",
            "Done.\n",
            "Done.\n",
            "Done.\n",
            "Done.\n",
            "Done.\n",
            "Done.\n",
            "Done.\n",
            "Done.\n",
            "Done.\n",
            "Done.\n",
            "Done.\n",
            "Done.\n",
            "Done.\n",
            "Done.\n"
          ],
          "name": "stdout"
        },
        {
          "output_type": "execute_result",
          "data": {
            "text/plain": [
              "[]"
            ]
          },
          "metadata": {
            "tags": []
          },
          "execution_count": 142
        }
      ]
    },
    {
      "cell_type": "code",
      "metadata": {
        "colab": {
          "base_uri": "https://localhost:8080/",
          "height": 171
        },
        "id": "sf8tjdX8kMK5",
        "outputId": "50bb640d-0936-4ea5-af86-52bd665ae8bf"
      },
      "source": [
        "print('Guest')\n",
        "%sql pragma table_info('Guest');"
      ],
      "execution_count": null,
      "outputs": [
        {
          "output_type": "stream",
          "text": [
            "Guest\n",
            " * sqlite:///projectdb.db\n",
            "Done.\n"
          ],
          "name": "stdout"
        },
        {
          "output_type": "execute_result",
          "data": {
            "text/html": [
              "<table>\n",
              "    <thead>\n",
              "        <tr>\n",
              "            <th>cid</th>\n",
              "            <th>name</th>\n",
              "            <th>type</th>\n",
              "            <th>notnull</th>\n",
              "            <th>dflt_value</th>\n",
              "            <th>pk</th>\n",
              "        </tr>\n",
              "    </thead>\n",
              "    <tbody>\n",
              "        <tr>\n",
              "            <td>0</td>\n",
              "            <td>memberID</td>\n",
              "            <td>INTEGER</td>\n",
              "            <td>0</td>\n",
              "            <td>None</td>\n",
              "            <td>1</td>\n",
              "        </tr>\n",
              "        <tr>\n",
              "            <td>1</td>\n",
              "            <td>memberName</td>\n",
              "            <td>nvarchar(250)</td>\n",
              "            <td>1</td>\n",
              "            <td>None</td>\n",
              "            <td>0</td>\n",
              "        </tr>\n",
              "        <tr>\n",
              "            <td>2</td>\n",
              "            <td>memberEmail</td>\n",
              "            <td>nvarchar(250)</td>\n",
              "            <td>0</td>\n",
              "            <td>None</td>\n",
              "            <td>0</td>\n",
              "        </tr>\n",
              "        <tr>\n",
              "            <td>3</td>\n",
              "            <td>memberAddress</td>\n",
              "            <td>nvarchar(250)</td>\n",
              "            <td>0</td>\n",
              "            <td>None</td>\n",
              "            <td>0</td>\n",
              "        </tr>\n",
              "    </tbody>\n",
              "</table>"
            ],
            "text/plain": [
              "[(0, 'memberID', 'INTEGER', 0, None, 1),\n",
              " (1, 'memberName', 'nvarchar(250)', 1, None, 0),\n",
              " (2, 'memberEmail', 'nvarchar(250)', 0, None, 0),\n",
              " (3, 'memberAddress', 'nvarchar(250)', 0, None, 0)]"
            ]
          },
          "metadata": {
            "tags": []
          },
          "execution_count": 143
        }
      ]
    },
    {
      "cell_type": "code",
      "metadata": {
        "colab": {
          "base_uri": "https://localhost:8080/",
          "height": 150
        },
        "id": "XOiedHJQkNFe",
        "outputId": "726f8944-a402-4a2d-e2b2-cda75b029d42"
      },
      "source": [
        "print('Mail')\n",
        "%sql pragma table_info('Mail');"
      ],
      "execution_count": null,
      "outputs": [
        {
          "output_type": "stream",
          "text": [
            "Mail\n",
            " * sqlite:///projectdb.db\n",
            "Done.\n"
          ],
          "name": "stdout"
        },
        {
          "output_type": "execute_result",
          "data": {
            "text/html": [
              "<table>\n",
              "    <thead>\n",
              "        <tr>\n",
              "            <th>cid</th>\n",
              "            <th>name</th>\n",
              "            <th>type</th>\n",
              "            <th>notnull</th>\n",
              "            <th>dflt_value</th>\n",
              "            <th>pk</th>\n",
              "        </tr>\n",
              "    </thead>\n",
              "    <tbody>\n",
              "        <tr>\n",
              "            <td>0</td>\n",
              "            <td>mailmaninfo</td>\n",
              "            <td>nvarchar(250)</td>\n",
              "            <td>0</td>\n",
              "            <td>None</td>\n",
              "            <td>0</td>\n",
              "        </tr>\n",
              "        <tr>\n",
              "            <td>1</td>\n",
              "            <td>FastTrack</td>\n",
              "            <td>nvarchar(250)</td>\n",
              "            <td>0</td>\n",
              "            <td>None</td>\n",
              "            <td>0</td>\n",
              "        </tr>\n",
              "        <tr>\n",
              "            <td>2</td>\n",
              "            <td>updates</td>\n",
              "            <td>nvarchar(250)</td>\n",
              "            <td>0</td>\n",
              "            <td>None</td>\n",
              "            <td>0</td>\n",
              "        </tr>\n",
              "    </tbody>\n",
              "</table>"
            ],
            "text/plain": [
              "[(0, 'mailmaninfo', 'nvarchar(250)', 0, None, 0),\n",
              " (1, 'FastTrack', 'nvarchar(250)', 0, None, 0),\n",
              " (2, 'updates', 'nvarchar(250)', 0, None, 0)]"
            ]
          },
          "metadata": {
            "tags": []
          },
          "execution_count": 144
        }
      ]
    },
    {
      "cell_type": "code",
      "metadata": {
        "colab": {
          "base_uri": "https://localhost:8080/",
          "height": 150
        },
        "id": "PpJXzrrUkPOQ",
        "outputId": "5c2a62c7-93e7-437b-9a2b-d872985d6383"
      },
      "source": [
        "print('Tracking')\n",
        "%sql pragma table_info('Tracking');"
      ],
      "execution_count": null,
      "outputs": [
        {
          "output_type": "stream",
          "text": [
            "Tracking\n",
            " * sqlite:///projectdb.db\n",
            "Done.\n"
          ],
          "name": "stdout"
        },
        {
          "output_type": "execute_result",
          "data": {
            "text/html": [
              "<table>\n",
              "    <thead>\n",
              "        <tr>\n",
              "            <th>cid</th>\n",
              "            <th>name</th>\n",
              "            <th>type</th>\n",
              "            <th>notnull</th>\n",
              "            <th>dflt_value</th>\n",
              "            <th>pk</th>\n",
              "        </tr>\n",
              "    </thead>\n",
              "    <tbody>\n",
              "        <tr>\n",
              "            <td>0</td>\n",
              "            <td>trackingID</td>\n",
              "            <td>INTEGER</td>\n",
              "            <td>0</td>\n",
              "            <td>None</td>\n",
              "            <td>1</td>\n",
              "        </tr>\n",
              "        <tr>\n",
              "            <td>1</td>\n",
              "            <td>packageinfo</td>\n",
              "            <td>nvarchar(250)</td>\n",
              "            <td>0</td>\n",
              "            <td>None</td>\n",
              "            <td>0</td>\n",
              "        </tr>\n",
              "        <tr>\n",
              "            <td>2</td>\n",
              "            <td>updates</td>\n",
              "            <td>nvarchar(250)</td>\n",
              "            <td>0</td>\n",
              "            <td>None</td>\n",
              "            <td>0</td>\n",
              "        </tr>\n",
              "    </tbody>\n",
              "</table>"
            ],
            "text/plain": [
              "[(0, 'trackingID', 'INTEGER', 0, None, 1),\n",
              " (1, 'packageinfo', 'nvarchar(250)', 0, None, 0),\n",
              " (2, 'updates', 'nvarchar(250)', 0, None, 0)]"
            ]
          },
          "metadata": {
            "tags": []
          },
          "execution_count": 145
        }
      ]
    },
    {
      "cell_type": "code",
      "metadata": {
        "colab": {
          "base_uri": "https://localhost:8080/",
          "height": 232
        },
        "id": "ouagw908kUFB",
        "outputId": "b69d2586-f14c-4079-f9e4-c34462aa3efb"
      },
      "source": [
        "print('GuestPayInfo')\n",
        "%sql pragma table_info('GuestPayInfo');"
      ],
      "execution_count": null,
      "outputs": [
        {
          "output_type": "stream",
          "text": [
            "GuestPayInfo\n",
            " * sqlite:///projectdb.db\n",
            "Done.\n"
          ],
          "name": "stdout"
        },
        {
          "output_type": "execute_result",
          "data": {
            "text/html": [
              "<table>\n",
              "    <thead>\n",
              "        <tr>\n",
              "            <th>cid</th>\n",
              "            <th>name</th>\n",
              "            <th>type</th>\n",
              "            <th>notnull</th>\n",
              "            <th>dflt_value</th>\n",
              "            <th>pk</th>\n",
              "        </tr>\n",
              "    </thead>\n",
              "    <tbody>\n",
              "        <tr>\n",
              "            <td>0</td>\n",
              "            <td>memberID</td>\n",
              "            <td>INTEGER</td>\n",
              "            <td>0</td>\n",
              "            <td>None</td>\n",
              "            <td>1</td>\n",
              "        </tr>\n",
              "        <tr>\n",
              "            <td>1</td>\n",
              "            <td>memberCardName</td>\n",
              "            <td>nvarchar(250)</td>\n",
              "            <td>1</td>\n",
              "            <td>None</td>\n",
              "            <td>0</td>\n",
              "        </tr>\n",
              "        <tr>\n",
              "            <td>2</td>\n",
              "            <td>memberCardNumber</td>\n",
              "            <td>int</td>\n",
              "            <td>0</td>\n",
              "            <td>None</td>\n",
              "            <td>0</td>\n",
              "        </tr>\n",
              "        <tr>\n",
              "            <td>3</td>\n",
              "            <td>memberCardExpiration</td>\n",
              "            <td>nvarchar(250)</td>\n",
              "            <td>0</td>\n",
              "            <td>None</td>\n",
              "            <td>0</td>\n",
              "        </tr>\n",
              "        <tr>\n",
              "            <td>4</td>\n",
              "            <td>memberCardCSV</td>\n",
              "            <td>int</td>\n",
              "            <td>0</td>\n",
              "            <td>None</td>\n",
              "            <td>0</td>\n",
              "        </tr>\n",
              "        <tr>\n",
              "            <td>5</td>\n",
              "            <td>trackingID</td>\n",
              "            <td>int</td>\n",
              "            <td>0</td>\n",
              "            <td>None</td>\n",
              "            <td>0</td>\n",
              "        </tr>\n",
              "        <tr>\n",
              "            <td>6</td>\n",
              "            <td>packageinfo</td>\n",
              "            <td>nvarchar(350)</td>\n",
              "            <td>0</td>\n",
              "            <td>None</td>\n",
              "            <td>0</td>\n",
              "        </tr>\n",
              "    </tbody>\n",
              "</table>"
            ],
            "text/plain": [
              "[(0, 'memberID', 'INTEGER', 0, None, 1),\n",
              " (1, 'memberCardName', 'nvarchar(250)', 1, None, 0),\n",
              " (2, 'memberCardNumber', 'int', 0, None, 0),\n",
              " (3, 'memberCardExpiration', 'nvarchar(250)', 0, None, 0),\n",
              " (4, 'memberCardCSV', 'int', 0, None, 0),\n",
              " (5, 'trackingID', 'int', 0, None, 0),\n",
              " (6, 'packageinfo', 'nvarchar(350)', 0, None, 0)]"
            ]
          },
          "metadata": {
            "tags": []
          },
          "execution_count": 146
        }
      ]
    },
    {
      "cell_type": "code",
      "metadata": {
        "colab": {
          "base_uri": "https://localhost:8080/",
          "height": 212
        },
        "id": "5QFmy1rzkVng",
        "outputId": "edf38dc5-a149-42d8-e0cb-a8fde13205d6"
      },
      "source": [
        "print('PostalStore')\n",
        "%sql pragma table_info('PostalStore');"
      ],
      "execution_count": null,
      "outputs": [
        {
          "output_type": "stream",
          "text": [
            "PostalStore\n",
            " * sqlite:///projectdb.db\n",
            "Done.\n"
          ],
          "name": "stdout"
        },
        {
          "output_type": "execute_result",
          "data": {
            "text/html": [
              "<table>\n",
              "    <thead>\n",
              "        <tr>\n",
              "            <th>cid</th>\n",
              "            <th>name</th>\n",
              "            <th>type</th>\n",
              "            <th>notnull</th>\n",
              "            <th>dflt_value</th>\n",
              "            <th>pk</th>\n",
              "        </tr>\n",
              "    </thead>\n",
              "    <tbody>\n",
              "        <tr>\n",
              "            <td>0</td>\n",
              "            <td>storeID</td>\n",
              "            <td>INTEGER</td>\n",
              "            <td>0</td>\n",
              "            <td>None</td>\n",
              "            <td>1</td>\n",
              "        </tr>\n",
              "        <tr>\n",
              "            <td>1</td>\n",
              "            <td>phonenumber</td>\n",
              "            <td>int</td>\n",
              "            <td>0</td>\n",
              "            <td>None</td>\n",
              "            <td>0</td>\n",
              "        </tr>\n",
              "        <tr>\n",
              "            <td>2</td>\n",
              "            <td>city</td>\n",
              "            <td>nvarchar(250)</td>\n",
              "            <td>0</td>\n",
              "            <td>None</td>\n",
              "            <td>0</td>\n",
              "        </tr>\n",
              "        <tr>\n",
              "            <td>3</td>\n",
              "            <td>state</td>\n",
              "            <td>nvarchar(250)</td>\n",
              "            <td>0</td>\n",
              "            <td>None</td>\n",
              "            <td>0</td>\n",
              "        </tr>\n",
              "        <tr>\n",
              "            <td>4</td>\n",
              "            <td>zipcode</td>\n",
              "            <td>int</td>\n",
              "            <td>0</td>\n",
              "            <td>None</td>\n",
              "            <td>0</td>\n",
              "        </tr>\n",
              "        <tr>\n",
              "            <td>5</td>\n",
              "            <td>contactID</td>\n",
              "            <td>int</td>\n",
              "            <td>0</td>\n",
              "            <td>None</td>\n",
              "            <td>0</td>\n",
              "        </tr>\n",
              "    </tbody>\n",
              "</table>"
            ],
            "text/plain": [
              "[(0, 'storeID', 'INTEGER', 0, None, 1),\n",
              " (1, 'phonenumber', 'int', 0, None, 0),\n",
              " (2, 'city', 'nvarchar(250)', 0, None, 0),\n",
              " (3, 'state', 'nvarchar(250)', 0, None, 0),\n",
              " (4, 'zipcode', 'int', 0, None, 0),\n",
              " (5, 'contactID', 'int', 0, None, 0)]"
            ]
          },
          "metadata": {
            "tags": []
          },
          "execution_count": 147
        }
      ]
    },
    {
      "cell_type": "code",
      "metadata": {
        "colab": {
          "base_uri": "https://localhost:8080/",
          "height": 130
        },
        "id": "4OG_UjJ_kYSC",
        "outputId": "f5caf350-ab50-44a0-952c-7e5e592a1715"
      },
      "source": [
        "print('Recieve')\n",
        "%sql pragma table_info('Recieve');"
      ],
      "execution_count": null,
      "outputs": [
        {
          "output_type": "stream",
          "text": [
            "Recieve\n",
            " * sqlite:///projectdb.db\n",
            "Done.\n"
          ],
          "name": "stdout"
        },
        {
          "output_type": "execute_result",
          "data": {
            "text/html": [
              "<table>\n",
              "    <thead>\n",
              "        <tr>\n",
              "            <th>cid</th>\n",
              "            <th>name</th>\n",
              "            <th>type</th>\n",
              "            <th>notnull</th>\n",
              "            <th>dflt_value</th>\n",
              "            <th>pk</th>\n",
              "        </tr>\n",
              "    </thead>\n",
              "    <tbody>\n",
              "        <tr>\n",
              "            <td>0</td>\n",
              "            <td>packageinfo</td>\n",
              "            <td>nvarchar(250)</td>\n",
              "            <td>0</td>\n",
              "            <td>None</td>\n",
              "            <td>0</td>\n",
              "        </tr>\n",
              "        <tr>\n",
              "            <td>1</td>\n",
              "            <td>mailmaninfo</td>\n",
              "            <td>nvarchar(250)</td>\n",
              "            <td>0</td>\n",
              "            <td>None</td>\n",
              "            <td>0</td>\n",
              "        </tr>\n",
              "    </tbody>\n",
              "</table>"
            ],
            "text/plain": [
              "[(0, 'packageinfo', 'nvarchar(250)', 0, None, 0),\n",
              " (1, 'mailmaninfo', 'nvarchar(250)', 0, None, 0)]"
            ]
          },
          "metadata": {
            "tags": []
          },
          "execution_count": 148
        }
      ]
    },
    {
      "cell_type": "code",
      "metadata": {
        "colab": {
          "base_uri": "https://localhost:8080/",
          "height": 150
        },
        "id": "ZYwveSsFkZv3",
        "outputId": "b0068c28-fb66-4c21-c089-ac80f7a2bb2d"
      },
      "source": [
        "print('contactUs')\n",
        "%sql pragma table_info('contactUs');"
      ],
      "execution_count": null,
      "outputs": [
        {
          "output_type": "stream",
          "text": [
            "contactUs\n",
            " * sqlite:///projectdb.db\n",
            "Done.\n"
          ],
          "name": "stdout"
        },
        {
          "output_type": "execute_result",
          "data": {
            "text/html": [
              "<table>\n",
              "    <thead>\n",
              "        <tr>\n",
              "            <th>cid</th>\n",
              "            <th>name</th>\n",
              "            <th>type</th>\n",
              "            <th>notnull</th>\n",
              "            <th>dflt_value</th>\n",
              "            <th>pk</th>\n",
              "        </tr>\n",
              "    </thead>\n",
              "    <tbody>\n",
              "        <tr>\n",
              "            <td>0</td>\n",
              "            <td>contactID</td>\n",
              "            <td>INTEGER</td>\n",
              "            <td>0</td>\n",
              "            <td>None</td>\n",
              "            <td>1</td>\n",
              "        </tr>\n",
              "        <tr>\n",
              "            <td>1</td>\n",
              "            <td>phonenumber</td>\n",
              "            <td>int</td>\n",
              "            <td>0</td>\n",
              "            <td>None</td>\n",
              "            <td>0</td>\n",
              "        </tr>\n",
              "        <tr>\n",
              "            <td>2</td>\n",
              "            <td>chatwithagent</td>\n",
              "            <td>nvarchar(250)</td>\n",
              "            <td>0</td>\n",
              "            <td>None</td>\n",
              "            <td>0</td>\n",
              "        </tr>\n",
              "    </tbody>\n",
              "</table>"
            ],
            "text/plain": [
              "[(0, 'contactID', 'INTEGER', 0, None, 1),\n",
              " (1, 'phonenumber', 'int', 0, None, 0),\n",
              " (2, 'chatwithagent', 'nvarchar(250)', 0, None, 0)]"
            ]
          },
          "metadata": {
            "tags": []
          },
          "execution_count": 149
        }
      ]
    },
    {
      "cell_type": "code",
      "metadata": {
        "colab": {
          "base_uri": "https://localhost:8080/"
        },
        "id": "F6LX-btpkZ07",
        "outputId": "4e49140a-9e24-4715-c864-3fd64e283446"
      },
      "source": [
        "%%sql\n",
        "\n",
        "INSERT INTO Guest([memberID],[memberName],[memberEmail],[memberAddress]) VALUES (5321,'David Koslicki','jht337@psu.edu','6337 N Albany Ave, Chicago, IL 60103');\n",
        "INSERT INTO Guest([memberID],[memberName],[memberEmail],[memberAddress]) VALUES (4562, 'Sophia Zane','sza756@psu.edu','657 Fox Ave, Memphis, TN 56412');\n",
        "INSERT INTO Guest([memberID],[memberName],[memberEmail],[memberAddress]) VALUES (3232, 'Austin Green','aug234@psu.edu','587 Bulverde Pkwy, Birmingham, AL 54896');\n",
        "INSERT INTO Guest([memberID],[memberName],[memberEmail],[memberAddress]) VALUES (3920,'Jonathan Sidwell',NULL,NULL);\n",
        "INSERT INTO Guest([memberID],[memberName],[memberEmail],[memberAddress]) VALUES (2343,'Harvey Specter','sdb@gmail.com',NULL);"
      ],
      "execution_count": null,
      "outputs": [
        {
          "output_type": "stream",
          "text": [
            " * sqlite:///projectdb.db\n",
            "1 rows affected.\n",
            "1 rows affected.\n",
            "1 rows affected.\n",
            "1 rows affected.\n",
            "1 rows affected.\n"
          ],
          "name": "stdout"
        },
        {
          "output_type": "execute_result",
          "data": {
            "text/plain": [
              "[]"
            ]
          },
          "metadata": {
            "tags": []
          },
          "execution_count": 150
        }
      ]
    },
    {
      "cell_type": "code",
      "metadata": {
        "colab": {
          "base_uri": "https://localhost:8080/",
          "height": 174
        },
        "id": "3F-UAzkzSqlF",
        "outputId": "244ea1b8-9a8c-4689-9a8c-16a81aa65e31"
      },
      "source": [
        "%%sql\n",
        "SELECT *\n",
        "FROM Guest;"
      ],
      "execution_count": null,
      "outputs": [
        {
          "output_type": "stream",
          "text": [
            " * sqlite:///projectdb.db\n",
            "Done.\n"
          ],
          "name": "stdout"
        },
        {
          "output_type": "execute_result",
          "data": {
            "text/html": [
              "<table>\n",
              "    <thead>\n",
              "        <tr>\n",
              "            <th>memberID</th>\n",
              "            <th>memberName</th>\n",
              "            <th>memberEmail</th>\n",
              "            <th>memberAddress</th>\n",
              "        </tr>\n",
              "    </thead>\n",
              "    <tbody>\n",
              "        <tr>\n",
              "            <td>2343</td>\n",
              "            <td>Harvey Specter</td>\n",
              "            <td>sdb@gmail.com</td>\n",
              "            <td>None</td>\n",
              "        </tr>\n",
              "        <tr>\n",
              "            <td>3232</td>\n",
              "            <td>Austin Green</td>\n",
              "            <td>aug234@psu.edu</td>\n",
              "            <td>587 Bulverde Pkwy, Birmingham, AL 54896</td>\n",
              "        </tr>\n",
              "        <tr>\n",
              "            <td>3920</td>\n",
              "            <td>Jonathan Sidwell</td>\n",
              "            <td>None</td>\n",
              "            <td>None</td>\n",
              "        </tr>\n",
              "        <tr>\n",
              "            <td>4562</td>\n",
              "            <td>Sophia Zane</td>\n",
              "            <td>sza756@psu.edu</td>\n",
              "            <td>657 Fox Ave, Memphis, TN 56412</td>\n",
              "        </tr>\n",
              "        <tr>\n",
              "            <td>5321</td>\n",
              "            <td>David Koslicki</td>\n",
              "            <td>jht337@psu.edu</td>\n",
              "            <td>6337 N Albany Ave, Chicago, IL 60103</td>\n",
              "        </tr>\n",
              "    </tbody>\n",
              "</table>"
            ],
            "text/plain": [
              "[(2343, 'Harvey Specter', 'sdb@gmail.com', None),\n",
              " (3232, 'Austin Green', 'aug234@psu.edu', '587 Bulverde Pkwy, Birmingham, AL 54896'),\n",
              " (3920, 'Jonathan Sidwell', None, None),\n",
              " (4562, 'Sophia Zane', 'sza756@psu.edu', '657 Fox Ave, Memphis, TN 56412'),\n",
              " (5321, 'David Koslicki', 'jht337@psu.edu', '6337 N Albany Ave, Chicago, IL 60103')]"
            ]
          },
          "metadata": {
            "tags": []
          },
          "execution_count": 151
        }
      ]
    },
    {
      "cell_type": "code",
      "metadata": {
        "colab": {
          "base_uri": "https://localhost:8080/"
        },
        "id": "A_Dfg02EkfsE",
        "outputId": "d46910d9-612e-4927-f049-71d414ffea6f"
      },
      "source": [
        "%%sql\n",
        "\n",
        "INSERT INTO Mail([mailmaninfo],[FastTrack],[updates]) VALUES ('MKG6773','Y','Shipped');\n",
        "INSERT INTO Mail([mailmaninfo],[FastTrack],[updates]) VALUES ('DEH3566','N','Delivered');\n",
        "INSERT INTO Mail([mailmaninfo],[FastTrack],[updates]) VALUES ('PFK6232','N','Product recieved');\n",
        "INSERT INTO Mail([mailmaninfo],[FastTrack],[updates]) VALUES ('MKG6773','Y','Shipped');\n",
        "INSERT INTO Mail([mailmaninfo],[FastTrack],[updates]) VALUES ('YEK9238','N','Shipped');\n",
        "INSERT INTO Mail([mailmaninfo],[FastTrack],[updates]) VALUES ('MKG6773','Y','Delivered');\n",
        "INSERT INTO Mail([mailmaninfo],[FastTrack],[updates]) VALUES ('WER4565','Y','Shipped');\n",
        "INSERT INTO Mail([mailmaninfo],[FastTrack],[updates]) VALUES ('PFK6232','N','Product recieved');\n",
        "INSERT INTO Mail([mailmaninfo],[FastTrack],[updates]) VALUES ('TGK8999','Y','Delivered');\n",
        "INSERT INTO Mail([mailmaninfo],[FastTrack],[updates]) VALUES ('PFK6232','Y','Delivered');"
      ],
      "execution_count": null,
      "outputs": [
        {
          "output_type": "stream",
          "text": [
            " * sqlite:///projectdb.db\n",
            "1 rows affected.\n",
            "1 rows affected.\n",
            "1 rows affected.\n",
            "1 rows affected.\n",
            "1 rows affected.\n",
            "1 rows affected.\n",
            "1 rows affected.\n",
            "1 rows affected.\n",
            "1 rows affected.\n",
            "1 rows affected.\n"
          ],
          "name": "stdout"
        },
        {
          "output_type": "execute_result",
          "data": {
            "text/plain": [
              "[]"
            ]
          },
          "metadata": {
            "tags": []
          },
          "execution_count": 152
        }
      ]
    },
    {
      "cell_type": "code",
      "metadata": {
        "colab": {
          "base_uri": "https://localhost:8080/",
          "height": 277
        },
        "id": "3jE3zcvuS7-P",
        "outputId": "8e442098-ae8d-446d-b8cd-f8abb89f9e72"
      },
      "source": [
        "%%sql\n",
        "SELECT *\n",
        "FROM Mail;"
      ],
      "execution_count": null,
      "outputs": [
        {
          "output_type": "stream",
          "text": [
            " * sqlite:///projectdb.db\n",
            "Done.\n"
          ],
          "name": "stdout"
        },
        {
          "output_type": "execute_result",
          "data": {
            "text/html": [
              "<table>\n",
              "    <thead>\n",
              "        <tr>\n",
              "            <th>mailmaninfo</th>\n",
              "            <th>FastTrack</th>\n",
              "            <th>updates</th>\n",
              "        </tr>\n",
              "    </thead>\n",
              "    <tbody>\n",
              "        <tr>\n",
              "            <td>MKG6773</td>\n",
              "            <td>Y</td>\n",
              "            <td>Shipped</td>\n",
              "        </tr>\n",
              "        <tr>\n",
              "            <td>DEH3566</td>\n",
              "            <td>N</td>\n",
              "            <td>Delivered</td>\n",
              "        </tr>\n",
              "        <tr>\n",
              "            <td>PFK6232</td>\n",
              "            <td>N</td>\n",
              "            <td>Product recieved</td>\n",
              "        </tr>\n",
              "        <tr>\n",
              "            <td>MKG6773</td>\n",
              "            <td>Y</td>\n",
              "            <td>Shipped</td>\n",
              "        </tr>\n",
              "        <tr>\n",
              "            <td>YEK9238</td>\n",
              "            <td>N</td>\n",
              "            <td>Shipped</td>\n",
              "        </tr>\n",
              "        <tr>\n",
              "            <td>MKG6773</td>\n",
              "            <td>Y</td>\n",
              "            <td>Delivered</td>\n",
              "        </tr>\n",
              "        <tr>\n",
              "            <td>WER4565</td>\n",
              "            <td>Y</td>\n",
              "            <td>Shipped</td>\n",
              "        </tr>\n",
              "        <tr>\n",
              "            <td>PFK6232</td>\n",
              "            <td>N</td>\n",
              "            <td>Product recieved</td>\n",
              "        </tr>\n",
              "        <tr>\n",
              "            <td>TGK8999</td>\n",
              "            <td>Y</td>\n",
              "            <td>Delivered</td>\n",
              "        </tr>\n",
              "        <tr>\n",
              "            <td>PFK6232</td>\n",
              "            <td>Y</td>\n",
              "            <td>Delivered</td>\n",
              "        </tr>\n",
              "    </tbody>\n",
              "</table>"
            ],
            "text/plain": [
              "[('MKG6773', 'Y', 'Shipped'),\n",
              " ('DEH3566', 'N', 'Delivered'),\n",
              " ('PFK6232', 'N', 'Product recieved'),\n",
              " ('MKG6773', 'Y', 'Shipped'),\n",
              " ('YEK9238', 'N', 'Shipped'),\n",
              " ('MKG6773', 'Y', 'Delivered'),\n",
              " ('WER4565', 'Y', 'Shipped'),\n",
              " ('PFK6232', 'N', 'Product recieved'),\n",
              " ('TGK8999', 'Y', 'Delivered'),\n",
              " ('PFK6232', 'Y', 'Delivered')]"
            ]
          },
          "metadata": {
            "tags": []
          },
          "execution_count": 153
        }
      ]
    },
    {
      "cell_type": "code",
      "metadata": {
        "colab": {
          "base_uri": "https://localhost:8080/"
        },
        "id": "JGgA8N4Sq_ZW",
        "outputId": "8e23e0a6-b891-43ab-9c5a-05e933b7f7cb"
      },
      "source": [
        "%%sql\n",
        "\n",
        "INSERT INTO Tracking([trackingID],[packageinfo],[updates]) VALUES (23429438291,'Heavy','Shipped');\n",
        "INSERT INTO Tracking([trackingID],[packageinfo],[updates]) VALUES (21123123293,'Light','Delivered');\n",
        "INSERT INTO Tracking([trackingID],[packageinfo],[updates]) VALUES (49499230211,'Heavy','Package recieved');\n",
        "INSERT INTO Tracking([trackingID],[packageinfo],[updates]) VALUES (93847272173,'Heavy','Shipped');\n",
        "INSERT INTO Tracking([trackingID],[packageinfo],[updates]) VALUES (74727173721,'Light','Shipped');\n",
        "INSERT INTO Tracking([trackingID],[packageinfo],[updates]) VALUES (64664278283,'Light','Shipped');\n",
        "INSERT INTO Tracking([trackingID],[packageinfo],[updates]) VALUES (53423123123,'Heavy','Delivered');"
      ],
      "execution_count": null,
      "outputs": [
        {
          "output_type": "stream",
          "text": [
            " * sqlite:///projectdb.db\n",
            "1 rows affected.\n",
            "1 rows affected.\n",
            "1 rows affected.\n",
            "1 rows affected.\n",
            "1 rows affected.\n",
            "1 rows affected.\n",
            "1 rows affected.\n"
          ],
          "name": "stdout"
        },
        {
          "output_type": "execute_result",
          "data": {
            "text/plain": [
              "[]"
            ]
          },
          "metadata": {
            "tags": []
          },
          "execution_count": 154
        }
      ]
    },
    {
      "cell_type": "code",
      "metadata": {
        "colab": {
          "base_uri": "https://localhost:8080/",
          "height": 215
        },
        "id": "JuZsJKnhTFCu",
        "outputId": "231b5773-91be-495f-835f-ab3d1a380c8e"
      },
      "source": [
        "%%sql\n",
        "SELECT *\n",
        "FROM Tracking;"
      ],
      "execution_count": null,
      "outputs": [
        {
          "output_type": "stream",
          "text": [
            " * sqlite:///projectdb.db\n",
            "Done.\n"
          ],
          "name": "stdout"
        },
        {
          "output_type": "execute_result",
          "data": {
            "text/html": [
              "<table>\n",
              "    <thead>\n",
              "        <tr>\n",
              "            <th>trackingID</th>\n",
              "            <th>packageinfo</th>\n",
              "            <th>updates</th>\n",
              "        </tr>\n",
              "    </thead>\n",
              "    <tbody>\n",
              "        <tr>\n",
              "            <td>21123123293</td>\n",
              "            <td>Light</td>\n",
              "            <td>Delivered</td>\n",
              "        </tr>\n",
              "        <tr>\n",
              "            <td>23429438291</td>\n",
              "            <td>Heavy</td>\n",
              "            <td>Shipped</td>\n",
              "        </tr>\n",
              "        <tr>\n",
              "            <td>49499230211</td>\n",
              "            <td>Heavy</td>\n",
              "            <td>Package recieved</td>\n",
              "        </tr>\n",
              "        <tr>\n",
              "            <td>53423123123</td>\n",
              "            <td>Heavy</td>\n",
              "            <td>Delivered</td>\n",
              "        </tr>\n",
              "        <tr>\n",
              "            <td>64664278283</td>\n",
              "            <td>Light</td>\n",
              "            <td>Shipped</td>\n",
              "        </tr>\n",
              "        <tr>\n",
              "            <td>74727173721</td>\n",
              "            <td>Light</td>\n",
              "            <td>Shipped</td>\n",
              "        </tr>\n",
              "        <tr>\n",
              "            <td>93847272173</td>\n",
              "            <td>Heavy</td>\n",
              "            <td>Shipped</td>\n",
              "        </tr>\n",
              "    </tbody>\n",
              "</table>"
            ],
            "text/plain": [
              "[(21123123293, 'Light', 'Delivered'),\n",
              " (23429438291, 'Heavy', 'Shipped'),\n",
              " (49499230211, 'Heavy', 'Package recieved'),\n",
              " (53423123123, 'Heavy', 'Delivered'),\n",
              " (64664278283, 'Light', 'Shipped'),\n",
              " (74727173721, 'Light', 'Shipped'),\n",
              " (93847272173, 'Heavy', 'Shipped')]"
            ]
          },
          "metadata": {
            "tags": []
          },
          "execution_count": 155
        }
      ]
    },
    {
      "cell_type": "code",
      "metadata": {
        "colab": {
          "base_uri": "https://localhost:8080/"
        },
        "id": "O2QLv02R7VkM",
        "outputId": "6aa9f267-195b-4330-ef6e-ee57b84e1212"
      },
      "source": [
        "%%sql\n",
        "\n",
        "INSERT INTO GuestPayInfo([memberID],[memberCardName],[memberCardNumber],[memberCardExpiration],[memberCardCSV],[trackingID],[packageinfo]) VALUES (5321,'David Sam Koslicki',5542123685429647,'06/27',516,23429438291,'Heavy');\n",
        "INSERT INTO GuestPayInfo([memberID],[memberCardName],[memberCardNumber],[memberCardExpiration],[memberCardCSV],[trackingID],[packageinfo]) VALUES (4562,'Sophia Racheal Zane',6422125485641345,'04/22',145,21123123293,'Light');\n",
        "INSERT INTO GuestPayInfo([memberID],[memberCardName],[memberCardNumber],[memberCardExpiration],[memberCardCSV],[trackingID],[packageinfo]) VALUES (3232,'Austin F Green',1452125456412341,'03/23',615,49499230211,'Heavy');\n",
        "INSERT INTO GuestPayInfo([memberID],[memberCardName],[memberCardNumber],[memberCardExpiration],[memberCardCSV],[trackingID],[packageinfo]) VALUES (3920,'Jonathan G Sidwell',2514563285469874,'02/22',713,93847272173,'Heavy');\n",
        "INSERT INTO GuestPayInfo([memberID],[memberCardName],[memberCardNumber],[memberCardExpiration],[memberCardCSV],[trackingID],[packageinfo]) VALUES (2343,'Harvey Specter',8524125687459654,'03/25',598,64664278283,'Light')"
      ],
      "execution_count": null,
      "outputs": [
        {
          "output_type": "stream",
          "text": [
            " * sqlite:///projectdb.db\n",
            "1 rows affected.\n",
            "1 rows affected.\n",
            "1 rows affected.\n",
            "1 rows affected.\n",
            "1 rows affected.\n"
          ],
          "name": "stdout"
        },
        {
          "output_type": "execute_result",
          "data": {
            "text/plain": [
              "[]"
            ]
          },
          "metadata": {
            "tags": []
          },
          "execution_count": 156
        }
      ]
    },
    {
      "cell_type": "code",
      "metadata": {
        "colab": {
          "base_uri": "https://localhost:8080/",
          "height": 174
        },
        "id": "Mvoc9ko4TIsx",
        "outputId": "65cc21b5-274e-471e-982e-499ccc069254"
      },
      "source": [
        "%%sql\n",
        "SELECT *\n",
        "FROM GuestPayInfo;"
      ],
      "execution_count": null,
      "outputs": [
        {
          "output_type": "stream",
          "text": [
            " * sqlite:///projectdb.db\n",
            "Done.\n"
          ],
          "name": "stdout"
        },
        {
          "output_type": "execute_result",
          "data": {
            "text/html": [
              "<table>\n",
              "    <thead>\n",
              "        <tr>\n",
              "            <th>memberID</th>\n",
              "            <th>memberCardName</th>\n",
              "            <th>memberCardNumber</th>\n",
              "            <th>memberCardExpiration</th>\n",
              "            <th>memberCardCSV</th>\n",
              "            <th>trackingID</th>\n",
              "            <th>packageinfo</th>\n",
              "        </tr>\n",
              "    </thead>\n",
              "    <tbody>\n",
              "        <tr>\n",
              "            <td>2343</td>\n",
              "            <td>Harvey Specter</td>\n",
              "            <td>8524125687459654</td>\n",
              "            <td>03/25</td>\n",
              "            <td>598</td>\n",
              "            <td>64664278283</td>\n",
              "            <td>Light</td>\n",
              "        </tr>\n",
              "        <tr>\n",
              "            <td>3232</td>\n",
              "            <td>Austin F Green</td>\n",
              "            <td>1452125456412341</td>\n",
              "            <td>03/23</td>\n",
              "            <td>615</td>\n",
              "            <td>49499230211</td>\n",
              "            <td>Heavy</td>\n",
              "        </tr>\n",
              "        <tr>\n",
              "            <td>3920</td>\n",
              "            <td>Jonathan G Sidwell</td>\n",
              "            <td>2514563285469874</td>\n",
              "            <td>02/22</td>\n",
              "            <td>713</td>\n",
              "            <td>93847272173</td>\n",
              "            <td>Heavy</td>\n",
              "        </tr>\n",
              "        <tr>\n",
              "            <td>4562</td>\n",
              "            <td>Sophia Racheal Zane</td>\n",
              "            <td>6422125485641345</td>\n",
              "            <td>04/22</td>\n",
              "            <td>145</td>\n",
              "            <td>21123123293</td>\n",
              "            <td>Light</td>\n",
              "        </tr>\n",
              "        <tr>\n",
              "            <td>5321</td>\n",
              "            <td>David Sam Koslicki</td>\n",
              "            <td>5542123685429647</td>\n",
              "            <td>06/27</td>\n",
              "            <td>516</td>\n",
              "            <td>23429438291</td>\n",
              "            <td>Heavy</td>\n",
              "        </tr>\n",
              "    </tbody>\n",
              "</table>"
            ],
            "text/plain": [
              "[(2343, 'Harvey Specter', 8524125687459654, '03/25', 598, 64664278283, 'Light'),\n",
              " (3232, 'Austin F Green', 1452125456412341, '03/23', 615, 49499230211, 'Heavy'),\n",
              " (3920, 'Jonathan G Sidwell', 2514563285469874, '02/22', 713, 93847272173, 'Heavy'),\n",
              " (4562, 'Sophia Racheal Zane', 6422125485641345, '04/22', 145, 21123123293, 'Light'),\n",
              " (5321, 'David Sam Koslicki', 5542123685429647, '06/27', 516, 23429438291, 'Heavy')]"
            ]
          },
          "metadata": {
            "tags": []
          },
          "execution_count": 157
        }
      ]
    },
    {
      "cell_type": "code",
      "metadata": {
        "colab": {
          "base_uri": "https://localhost:8080/"
        },
        "id": "ahxR-oQH-jEP",
        "outputId": "b1ff7a01-9200-479f-d69f-bd6ed4ac9569"
      },
      "source": [
        "%%sql\n",
        "\n",
        "INSERT INTO PostalStore([storeID],[phonenumber],[city],[state],[zipcode],[contactID]) VALUES (5065652,3215231542,'Chicago','IL',60103,53215);\n",
        "INSERT INTO PostalStore([storeID],[phonenumber],[city],[state],[zipcode],[contactID]) VALUES (8051273,5112536524,'San Antonio','TX',78259,22254);\n",
        "INSERT INTO PostalStore([storeID],[phonenumber],[city],[state],[zipcode],[contactID]) VALUES (5850208,6541221551,'State College','PA',16801,8824);\n",
        "INSERT INTO PostalStore([storeID],[phonenumber],[city],[state],[zipcode],[contactID]) VALUES (3202015,7541312544,'Columbus','OH',43004,5591);\n",
        "INSERT INTO PostalStore([storeID],[phonenumber],[city],[state],[zipcode],[contactID]) VALUES (1320055,7415238459,'Houston','TX',77001,9955);\n",
        "INSERT INTO PostalStore([storeID],[phonenumber],[city],[state],[zipcode],[contactID]) VALUES (3001525,8412516656,'Dallas','TX',75001,55615);\n",
        "INSERT INTO PostalStore([storeID],[phonenumber],[city],[state],[zipcode],[contactID]) VALUES (5600651,8451235486,'West Chester','PA',19380,8624)\n"
      ],
      "execution_count": null,
      "outputs": [
        {
          "output_type": "stream",
          "text": [
            " * sqlite:///projectdb.db\n",
            "1 rows affected.\n",
            "1 rows affected.\n",
            "1 rows affected.\n",
            "1 rows affected.\n",
            "1 rows affected.\n",
            "1 rows affected.\n",
            "1 rows affected.\n"
          ],
          "name": "stdout"
        },
        {
          "output_type": "execute_result",
          "data": {
            "text/plain": [
              "[]"
            ]
          },
          "metadata": {
            "tags": []
          },
          "execution_count": 158
        }
      ]
    },
    {
      "cell_type": "code",
      "metadata": {
        "colab": {
          "base_uri": "https://localhost:8080/",
          "height": 215
        },
        "id": "6qXWNpm2TPMO",
        "outputId": "6954d4d1-08fc-4e8d-a61e-20a67ae1710e"
      },
      "source": [
        "%%sql\n",
        "SELECT *\n",
        "FROM PostalStore;"
      ],
      "execution_count": null,
      "outputs": [
        {
          "output_type": "stream",
          "text": [
            " * sqlite:///projectdb.db\n",
            "Done.\n"
          ],
          "name": "stdout"
        },
        {
          "output_type": "execute_result",
          "data": {
            "text/html": [
              "<table>\n",
              "    <thead>\n",
              "        <tr>\n",
              "            <th>storeID</th>\n",
              "            <th>phonenumber</th>\n",
              "            <th>city</th>\n",
              "            <th>state</th>\n",
              "            <th>zipcode</th>\n",
              "            <th>contactID</th>\n",
              "        </tr>\n",
              "    </thead>\n",
              "    <tbody>\n",
              "        <tr>\n",
              "            <td>1320055</td>\n",
              "            <td>7415238459</td>\n",
              "            <td>Houston</td>\n",
              "            <td>TX</td>\n",
              "            <td>77001</td>\n",
              "            <td>9955</td>\n",
              "        </tr>\n",
              "        <tr>\n",
              "            <td>3001525</td>\n",
              "            <td>8412516656</td>\n",
              "            <td>Dallas</td>\n",
              "            <td>TX</td>\n",
              "            <td>75001</td>\n",
              "            <td>55615</td>\n",
              "        </tr>\n",
              "        <tr>\n",
              "            <td>3202015</td>\n",
              "            <td>7541312544</td>\n",
              "            <td>Columbus</td>\n",
              "            <td>OH</td>\n",
              "            <td>43004</td>\n",
              "            <td>5591</td>\n",
              "        </tr>\n",
              "        <tr>\n",
              "            <td>5065652</td>\n",
              "            <td>3215231542</td>\n",
              "            <td>Chicago</td>\n",
              "            <td>IL</td>\n",
              "            <td>60103</td>\n",
              "            <td>53215</td>\n",
              "        </tr>\n",
              "        <tr>\n",
              "            <td>5600651</td>\n",
              "            <td>8451235486</td>\n",
              "            <td>West Chester</td>\n",
              "            <td>PA</td>\n",
              "            <td>19380</td>\n",
              "            <td>8624</td>\n",
              "        </tr>\n",
              "        <tr>\n",
              "            <td>5850208</td>\n",
              "            <td>6541221551</td>\n",
              "            <td>State College</td>\n",
              "            <td>PA</td>\n",
              "            <td>16801</td>\n",
              "            <td>8824</td>\n",
              "        </tr>\n",
              "        <tr>\n",
              "            <td>8051273</td>\n",
              "            <td>5112536524</td>\n",
              "            <td>San Antonio</td>\n",
              "            <td>TX</td>\n",
              "            <td>78259</td>\n",
              "            <td>22254</td>\n",
              "        </tr>\n",
              "    </tbody>\n",
              "</table>"
            ],
            "text/plain": [
              "[(1320055, 7415238459, 'Houston', 'TX', 77001, 9955),\n",
              " (3001525, 8412516656, 'Dallas', 'TX', 75001, 55615),\n",
              " (3202015, 7541312544, 'Columbus', 'OH', 43004, 5591),\n",
              " (5065652, 3215231542, 'Chicago', 'IL', 60103, 53215),\n",
              " (5600651, 8451235486, 'West Chester', 'PA', 19380, 8624),\n",
              " (5850208, 6541221551, 'State College', 'PA', 16801, 8824),\n",
              " (8051273, 5112536524, 'San Antonio', 'TX', 78259, 22254)]"
            ]
          },
          "metadata": {
            "tags": []
          },
          "execution_count": 159
        }
      ]
    },
    {
      "cell_type": "code",
      "metadata": {
        "colab": {
          "base_uri": "https://localhost:8080/"
        },
        "id": "IAvfhV2KBYi7",
        "outputId": "6566b6be-7dc8-4d97-8270-acc140e12fa8"
      },
      "source": [
        "%%sql\n",
        "\n",
        "INSERT INTO Recieve([packageinfo],[mailmaninfo]) VALUES ('Heavy','PFK6232');\n",
        "INSERT INTO Recieve([packageinfo],[mailmaninfo]) VALUES ('Heavy','MKG6773');\n",
        "INSERT INTO Recieve([packageinfo],[mailmaninfo]) VALUES ('Light','PFK6232');\n",
        "INSERT INTO Recieve([packageinfo],[mailmaninfo]) VALUES ('Heavy','YEK9238');\n",
        "INSERT INTO Recieve([packageinfo],[mailmaninfo]) VALUES ('Heavy','WER4565')"
      ],
      "execution_count": null,
      "outputs": [
        {
          "output_type": "stream",
          "text": [
            " * sqlite:///projectdb.db\n",
            "1 rows affected.\n",
            "1 rows affected.\n",
            "1 rows affected.\n",
            "1 rows affected.\n",
            "1 rows affected.\n"
          ],
          "name": "stdout"
        },
        {
          "output_type": "execute_result",
          "data": {
            "text/plain": [
              "[]"
            ]
          },
          "metadata": {
            "tags": []
          },
          "execution_count": 160
        }
      ]
    },
    {
      "cell_type": "code",
      "metadata": {
        "colab": {
          "base_uri": "https://localhost:8080/",
          "height": 174
        },
        "id": "BxvqV0etTSxC",
        "outputId": "7350fa96-7cd9-493f-98bc-ecb63d4dbf99"
      },
      "source": [
        "%%sql\n",
        "SELECT *\n",
        "FROM Recieve;"
      ],
      "execution_count": null,
      "outputs": [
        {
          "output_type": "stream",
          "text": [
            " * sqlite:///projectdb.db\n",
            "Done.\n"
          ],
          "name": "stdout"
        },
        {
          "output_type": "execute_result",
          "data": {
            "text/html": [
              "<table>\n",
              "    <thead>\n",
              "        <tr>\n",
              "            <th>packageinfo</th>\n",
              "            <th>mailmaninfo</th>\n",
              "        </tr>\n",
              "    </thead>\n",
              "    <tbody>\n",
              "        <tr>\n",
              "            <td>Heavy</td>\n",
              "            <td>PFK6232</td>\n",
              "        </tr>\n",
              "        <tr>\n",
              "            <td>Heavy</td>\n",
              "            <td>MKG6773</td>\n",
              "        </tr>\n",
              "        <tr>\n",
              "            <td>Light</td>\n",
              "            <td>PFK6232</td>\n",
              "        </tr>\n",
              "        <tr>\n",
              "            <td>Heavy</td>\n",
              "            <td>YEK9238</td>\n",
              "        </tr>\n",
              "        <tr>\n",
              "            <td>Heavy</td>\n",
              "            <td>WER4565</td>\n",
              "        </tr>\n",
              "    </tbody>\n",
              "</table>"
            ],
            "text/plain": [
              "[('Heavy', 'PFK6232'),\n",
              " ('Heavy', 'MKG6773'),\n",
              " ('Light', 'PFK6232'),\n",
              " ('Heavy', 'YEK9238'),\n",
              " ('Heavy', 'WER4565')]"
            ]
          },
          "metadata": {
            "tags": []
          },
          "execution_count": 161
        }
      ]
    },
    {
      "cell_type": "code",
      "metadata": {
        "colab": {
          "base_uri": "https://localhost:8080/"
        },
        "id": "ECCO7YBtQqUD",
        "outputId": "ffd955ba-64b5-4126-a472-e1c841cde29f"
      },
      "source": [
        "%%sql\n",
        "\n",
        "INSERT INTO contactUs([contactID],[phonenumber],[chatwithagent]) VALUES (53215,6309438194,'jfh456@usps.com');\n",
        "INSERT INTO contactUs([contactID],[phonenumber],[chatwithagent]) VALUES (22254,3215231542,'wne868@usps.com');\n",
        "INSERT INTO contactUs([contactID],[phonenumber],[chatwithagent]) VALUES (8824,6541221551,'aew128@usps.com');\n",
        "INSERT INTO contactUs([contactID],[phonenumber],[chatwithagent]) VALUES (5591,7541312544,'gte435@usps.com')\n"
      ],
      "execution_count": null,
      "outputs": [
        {
          "output_type": "stream",
          "text": [
            " * sqlite:///projectdb.db\n",
            "1 rows affected.\n",
            "1 rows affected.\n",
            "1 rows affected.\n",
            "1 rows affected.\n"
          ],
          "name": "stdout"
        },
        {
          "output_type": "execute_result",
          "data": {
            "text/plain": [
              "[]"
            ]
          },
          "metadata": {
            "tags": []
          },
          "execution_count": 162
        }
      ]
    },
    {
      "cell_type": "code",
      "metadata": {
        "colab": {
          "base_uri": "https://localhost:8080/",
          "height": 154
        },
        "id": "SF0cwejWTVhn",
        "outputId": "2b117dac-02e4-4aea-8aa3-bae0df49c107"
      },
      "source": [
        "%%sql\n",
        "SELECT *\n",
        "FROM contactUs;"
      ],
      "execution_count": null,
      "outputs": [
        {
          "output_type": "stream",
          "text": [
            " * sqlite:///projectdb.db\n",
            "Done.\n"
          ],
          "name": "stdout"
        },
        {
          "output_type": "execute_result",
          "data": {
            "text/html": [
              "<table>\n",
              "    <thead>\n",
              "        <tr>\n",
              "            <th>contactID</th>\n",
              "            <th>phonenumber</th>\n",
              "            <th>chatwithagent</th>\n",
              "        </tr>\n",
              "    </thead>\n",
              "    <tbody>\n",
              "        <tr>\n",
              "            <td>5591</td>\n",
              "            <td>7541312544</td>\n",
              "            <td>gte435@usps.com</td>\n",
              "        </tr>\n",
              "        <tr>\n",
              "            <td>8824</td>\n",
              "            <td>6541221551</td>\n",
              "            <td>aew128@usps.com</td>\n",
              "        </tr>\n",
              "        <tr>\n",
              "            <td>22254</td>\n",
              "            <td>3215231542</td>\n",
              "            <td>wne868@usps.com</td>\n",
              "        </tr>\n",
              "        <tr>\n",
              "            <td>53215</td>\n",
              "            <td>6309438194</td>\n",
              "            <td>jfh456@usps.com</td>\n",
              "        </tr>\n",
              "    </tbody>\n",
              "</table>"
            ],
            "text/plain": [
              "[(5591, 7541312544, 'gte435@usps.com'),\n",
              " (8824, 6541221551, 'aew128@usps.com'),\n",
              " (22254, 3215231542, 'wne868@usps.com'),\n",
              " (53215, 6309438194, 'jfh456@usps.com')]"
            ]
          },
          "metadata": {
            "tags": []
          },
          "execution_count": 163
        }
      ]
    },
    {
      "cell_type": "code",
      "metadata": {
        "colab": {
          "base_uri": "https://localhost:8080/",
          "height": 134
        },
        "id": "_Dujp8LgTdsB",
        "outputId": "630ccad8-b06c-4853-f225-194adb14f509"
      },
      "source": [
        "%%sql\n",
        "SELECT storeID, zipcode, city\n",
        "FROM PostalStore\n",
        "WHERE state == 'TX'"
      ],
      "execution_count": null,
      "outputs": [
        {
          "output_type": "stream",
          "text": [
            " * sqlite:///projectdb.db\n",
            "Done.\n"
          ],
          "name": "stdout"
        },
        {
          "output_type": "execute_result",
          "data": {
            "text/html": [
              "<table>\n",
              "    <thead>\n",
              "        <tr>\n",
              "            <th>storeID</th>\n",
              "            <th>zipcode</th>\n",
              "            <th>city</th>\n",
              "        </tr>\n",
              "    </thead>\n",
              "    <tbody>\n",
              "        <tr>\n",
              "            <td>1320055</td>\n",
              "            <td>77001</td>\n",
              "            <td>Houston</td>\n",
              "        </tr>\n",
              "        <tr>\n",
              "            <td>3001525</td>\n",
              "            <td>75001</td>\n",
              "            <td>Dallas</td>\n",
              "        </tr>\n",
              "        <tr>\n",
              "            <td>8051273</td>\n",
              "            <td>78259</td>\n",
              "            <td>San Antonio</td>\n",
              "        </tr>\n",
              "    </tbody>\n",
              "</table>"
            ],
            "text/plain": [
              "[(1320055, 77001, 'Houston'),\n",
              " (3001525, 75001, 'Dallas'),\n",
              " (8051273, 78259, 'San Antonio')]"
            ]
          },
          "metadata": {
            "tags": []
          },
          "execution_count": 164
        }
      ]
    },
    {
      "cell_type": "code",
      "metadata": {
        "colab": {
          "base_uri": "https://localhost:8080/",
          "height": 134
        },
        "id": "3-VTG8ejUHT8",
        "outputId": "481cbe44-fa50-4d9e-eb9c-be2e5629c1fc"
      },
      "source": [
        "%%sql\n",
        "SELECT *\n",
        "FROM Mail\n",
        "WHERE mailmaninfo == 'PFK6232'"
      ],
      "execution_count": null,
      "outputs": [
        {
          "output_type": "stream",
          "text": [
            " * sqlite:///projectdb.db\n",
            "Done.\n"
          ],
          "name": "stdout"
        },
        {
          "output_type": "execute_result",
          "data": {
            "text/html": [
              "<table>\n",
              "    <thead>\n",
              "        <tr>\n",
              "            <th>mailmaninfo</th>\n",
              "            <th>FastTrack</th>\n",
              "            <th>updates</th>\n",
              "        </tr>\n",
              "    </thead>\n",
              "    <tbody>\n",
              "        <tr>\n",
              "            <td>PFK6232</td>\n",
              "            <td>N</td>\n",
              "            <td>Product recieved</td>\n",
              "        </tr>\n",
              "        <tr>\n",
              "            <td>PFK6232</td>\n",
              "            <td>N</td>\n",
              "            <td>Product recieved</td>\n",
              "        </tr>\n",
              "        <tr>\n",
              "            <td>PFK6232</td>\n",
              "            <td>Y</td>\n",
              "            <td>Delivered</td>\n",
              "        </tr>\n",
              "    </tbody>\n",
              "</table>"
            ],
            "text/plain": [
              "[('PFK6232', 'N', 'Product recieved'),\n",
              " ('PFK6232', 'N', 'Product recieved'),\n",
              " ('PFK6232', 'Y', 'Delivered')]"
            ]
          },
          "metadata": {
            "tags": []
          },
          "execution_count": 165
        }
      ]
    },
    {
      "cell_type": "code",
      "metadata": {
        "colab": {
          "base_uri": "https://localhost:8080/",
          "height": 93
        },
        "id": "rLk7LNwYUjag",
        "outputId": "c2b616a7-6650-47b0-dbb6-c0a09f4ed86b"
      },
      "source": [
        "%%sql\n",
        "SELECT *\n",
        "FROM Mail\n",
        "WHERE mailmaninfo == 'PFK6232' and FastTrack=='Y'"
      ],
      "execution_count": null,
      "outputs": [
        {
          "output_type": "stream",
          "text": [
            " * sqlite:///projectdb.db\n",
            "Done.\n"
          ],
          "name": "stdout"
        },
        {
          "output_type": "execute_result",
          "data": {
            "text/html": [
              "<table>\n",
              "    <thead>\n",
              "        <tr>\n",
              "            <th>mailmaninfo</th>\n",
              "            <th>FastTrack</th>\n",
              "            <th>updates</th>\n",
              "        </tr>\n",
              "    </thead>\n",
              "    <tbody>\n",
              "        <tr>\n",
              "            <td>PFK6232</td>\n",
              "            <td>Y</td>\n",
              "            <td>Delivered</td>\n",
              "        </tr>\n",
              "    </tbody>\n",
              "</table>"
            ],
            "text/plain": [
              "[('PFK6232', 'Y', 'Delivered')]"
            ]
          },
          "metadata": {
            "tags": []
          },
          "execution_count": 166
        }
      ]
    },
    {
      "cell_type": "code",
      "metadata": {
        "colab": {
          "base_uri": "https://localhost:8080/",
          "height": 215
        },
        "id": "1AjZ3kQFUrAJ",
        "outputId": "6ac5a2fc-7948-4c57-faf4-64e7969074c8"
      },
      "source": [
        "%%sql\n",
        "SELECT storeID, zipcode, city\n",
        "FROM PostalStore\n",
        "ORDER BY city DESC"
      ],
      "execution_count": null,
      "outputs": [
        {
          "output_type": "stream",
          "text": [
            " * sqlite:///projectdb.db\n",
            "Done.\n"
          ],
          "name": "stdout"
        },
        {
          "output_type": "execute_result",
          "data": {
            "text/html": [
              "<table>\n",
              "    <thead>\n",
              "        <tr>\n",
              "            <th>storeID</th>\n",
              "            <th>zipcode</th>\n",
              "            <th>city</th>\n",
              "        </tr>\n",
              "    </thead>\n",
              "    <tbody>\n",
              "        <tr>\n",
              "            <td>5600651</td>\n",
              "            <td>19380</td>\n",
              "            <td>West Chester</td>\n",
              "        </tr>\n",
              "        <tr>\n",
              "            <td>5850208</td>\n",
              "            <td>16801</td>\n",
              "            <td>State College</td>\n",
              "        </tr>\n",
              "        <tr>\n",
              "            <td>8051273</td>\n",
              "            <td>78259</td>\n",
              "            <td>San Antonio</td>\n",
              "        </tr>\n",
              "        <tr>\n",
              "            <td>1320055</td>\n",
              "            <td>77001</td>\n",
              "            <td>Houston</td>\n",
              "        </tr>\n",
              "        <tr>\n",
              "            <td>3001525</td>\n",
              "            <td>75001</td>\n",
              "            <td>Dallas</td>\n",
              "        </tr>\n",
              "        <tr>\n",
              "            <td>3202015</td>\n",
              "            <td>43004</td>\n",
              "            <td>Columbus</td>\n",
              "        </tr>\n",
              "        <tr>\n",
              "            <td>5065652</td>\n",
              "            <td>60103</td>\n",
              "            <td>Chicago</td>\n",
              "        </tr>\n",
              "    </tbody>\n",
              "</table>"
            ],
            "text/plain": [
              "[(5600651, 19380, 'West Chester'),\n",
              " (5850208, 16801, 'State College'),\n",
              " (8051273, 78259, 'San Antonio'),\n",
              " (1320055, 77001, 'Houston'),\n",
              " (3001525, 75001, 'Dallas'),\n",
              " (3202015, 43004, 'Columbus'),\n",
              " (5065652, 60103, 'Chicago')]"
            ]
          },
          "metadata": {
            "tags": []
          },
          "execution_count": 167
        }
      ]
    },
    {
      "cell_type": "code",
      "metadata": {
        "colab": {
          "base_uri": "https://localhost:8080/",
          "height": 174
        },
        "id": "7vOy7DBWVP7h",
        "outputId": "03e6e8c4-8efe-494f-c240-401020581327"
      },
      "source": [
        "%%sql\n",
        "\n",
        "SELECT *\n",
        "FROM Guest\n",
        "NATURAL JOIN GuestPayInfo;"
      ],
      "execution_count": null,
      "outputs": [
        {
          "output_type": "stream",
          "text": [
            " * sqlite:///projectdb.db\n",
            "Done.\n"
          ],
          "name": "stdout"
        },
        {
          "output_type": "execute_result",
          "data": {
            "text/html": [
              "<table>\n",
              "    <thead>\n",
              "        <tr>\n",
              "            <th>memberID</th>\n",
              "            <th>memberName</th>\n",
              "            <th>memberEmail</th>\n",
              "            <th>memberAddress</th>\n",
              "            <th>memberCardName</th>\n",
              "            <th>memberCardNumber</th>\n",
              "            <th>memberCardExpiration</th>\n",
              "            <th>memberCardCSV</th>\n",
              "            <th>trackingID</th>\n",
              "            <th>packageinfo</th>\n",
              "        </tr>\n",
              "    </thead>\n",
              "    <tbody>\n",
              "        <tr>\n",
              "            <td>2343</td>\n",
              "            <td>Harvey Specter</td>\n",
              "            <td>sdb@gmail.com</td>\n",
              "            <td>None</td>\n",
              "            <td>Harvey Specter</td>\n",
              "            <td>8524125687459654</td>\n",
              "            <td>03/25</td>\n",
              "            <td>598</td>\n",
              "            <td>64664278283</td>\n",
              "            <td>Light</td>\n",
              "        </tr>\n",
              "        <tr>\n",
              "            <td>3232</td>\n",
              "            <td>Austin Green</td>\n",
              "            <td>aug234@psu.edu</td>\n",
              "            <td>587 Bulverde Pkwy, Birmingham, AL 54896</td>\n",
              "            <td>Austin F Green</td>\n",
              "            <td>1452125456412341</td>\n",
              "            <td>03/23</td>\n",
              "            <td>615</td>\n",
              "            <td>49499230211</td>\n",
              "            <td>Heavy</td>\n",
              "        </tr>\n",
              "        <tr>\n",
              "            <td>3920</td>\n",
              "            <td>Jonathan Sidwell</td>\n",
              "            <td>None</td>\n",
              "            <td>None</td>\n",
              "            <td>Jonathan G Sidwell</td>\n",
              "            <td>2514563285469874</td>\n",
              "            <td>02/22</td>\n",
              "            <td>713</td>\n",
              "            <td>93847272173</td>\n",
              "            <td>Heavy</td>\n",
              "        </tr>\n",
              "        <tr>\n",
              "            <td>4562</td>\n",
              "            <td>Sophia Zane</td>\n",
              "            <td>sza756@psu.edu</td>\n",
              "            <td>657 Fox Ave, Memphis, TN 56412</td>\n",
              "            <td>Sophia Racheal Zane</td>\n",
              "            <td>6422125485641345</td>\n",
              "            <td>04/22</td>\n",
              "            <td>145</td>\n",
              "            <td>21123123293</td>\n",
              "            <td>Light</td>\n",
              "        </tr>\n",
              "        <tr>\n",
              "            <td>5321</td>\n",
              "            <td>David Koslicki</td>\n",
              "            <td>jht337@psu.edu</td>\n",
              "            <td>6337 N Albany Ave, Chicago, IL 60103</td>\n",
              "            <td>David Sam Koslicki</td>\n",
              "            <td>5542123685429647</td>\n",
              "            <td>06/27</td>\n",
              "            <td>516</td>\n",
              "            <td>23429438291</td>\n",
              "            <td>Heavy</td>\n",
              "        </tr>\n",
              "    </tbody>\n",
              "</table>"
            ],
            "text/plain": [
              "[(2343, 'Harvey Specter', 'sdb@gmail.com', None, 'Harvey Specter', 8524125687459654, '03/25', 598, 64664278283, 'Light'),\n",
              " (3232, 'Austin Green', 'aug234@psu.edu', '587 Bulverde Pkwy, Birmingham, AL 54896', 'Austin F Green', 1452125456412341, '03/23', 615, 49499230211, 'Heavy'),\n",
              " (3920, 'Jonathan Sidwell', None, None, 'Jonathan G Sidwell', 2514563285469874, '02/22', 713, 93847272173, 'Heavy'),\n",
              " (4562, 'Sophia Zane', 'sza756@psu.edu', '657 Fox Ave, Memphis, TN 56412', 'Sophia Racheal Zane', 6422125485641345, '04/22', 145, 21123123293, 'Light'),\n",
              " (5321, 'David Koslicki', 'jht337@psu.edu', '6337 N Albany Ave, Chicago, IL 60103', 'David Sam Koslicki', 5542123685429647, '06/27', 516, 23429438291, 'Heavy')]"
            ]
          },
          "metadata": {
            "tags": []
          },
          "execution_count": 168
        }
      ]
    },
    {
      "cell_type": "code",
      "metadata": {
        "colab": {
          "base_uri": "https://localhost:8080/",
          "height": 174
        },
        "id": "KJF04lcKYHMP",
        "outputId": "9cd7f5dc-439c-4029-edc2-f83116dcd56a"
      },
      "source": [
        "%%sql\n",
        "\n",
        "SELECT *\n",
        "FROM Guest\n",
        "LEFT JOIN GuestPayInfo gpi ON Guest.memberID = gpi.memberID"
      ],
      "execution_count": null,
      "outputs": [
        {
          "output_type": "stream",
          "text": [
            " * sqlite:///projectdb.db\n",
            "Done.\n"
          ],
          "name": "stdout"
        },
        {
          "output_type": "execute_result",
          "data": {
            "text/html": [
              "<table>\n",
              "    <thead>\n",
              "        <tr>\n",
              "            <th>memberID</th>\n",
              "            <th>memberName</th>\n",
              "            <th>memberEmail</th>\n",
              "            <th>memberAddress</th>\n",
              "            <th>memberID_1</th>\n",
              "            <th>memberCardName</th>\n",
              "            <th>memberCardNumber</th>\n",
              "            <th>memberCardExpiration</th>\n",
              "            <th>memberCardCSV</th>\n",
              "            <th>trackingID</th>\n",
              "            <th>packageinfo</th>\n",
              "        </tr>\n",
              "    </thead>\n",
              "    <tbody>\n",
              "        <tr>\n",
              "            <td>2343</td>\n",
              "            <td>Harvey Specter</td>\n",
              "            <td>sdb@gmail.com</td>\n",
              "            <td>None</td>\n",
              "            <td>2343</td>\n",
              "            <td>Harvey Specter</td>\n",
              "            <td>8524125687459654</td>\n",
              "            <td>03/25</td>\n",
              "            <td>598</td>\n",
              "            <td>64664278283</td>\n",
              "            <td>Light</td>\n",
              "        </tr>\n",
              "        <tr>\n",
              "            <td>3232</td>\n",
              "            <td>Austin Green</td>\n",
              "            <td>aug234@psu.edu</td>\n",
              "            <td>587 Bulverde Pkwy, Birmingham, AL 54896</td>\n",
              "            <td>3232</td>\n",
              "            <td>Austin F Green</td>\n",
              "            <td>1452125456412341</td>\n",
              "            <td>03/23</td>\n",
              "            <td>615</td>\n",
              "            <td>49499230211</td>\n",
              "            <td>Heavy</td>\n",
              "        </tr>\n",
              "        <tr>\n",
              "            <td>3920</td>\n",
              "            <td>Jonathan Sidwell</td>\n",
              "            <td>None</td>\n",
              "            <td>None</td>\n",
              "            <td>3920</td>\n",
              "            <td>Jonathan G Sidwell</td>\n",
              "            <td>2514563285469874</td>\n",
              "            <td>02/22</td>\n",
              "            <td>713</td>\n",
              "            <td>93847272173</td>\n",
              "            <td>Heavy</td>\n",
              "        </tr>\n",
              "        <tr>\n",
              "            <td>4562</td>\n",
              "            <td>Sophia Zane</td>\n",
              "            <td>sza756@psu.edu</td>\n",
              "            <td>657 Fox Ave, Memphis, TN 56412</td>\n",
              "            <td>4562</td>\n",
              "            <td>Sophia Racheal Zane</td>\n",
              "            <td>6422125485641345</td>\n",
              "            <td>04/22</td>\n",
              "            <td>145</td>\n",
              "            <td>21123123293</td>\n",
              "            <td>Light</td>\n",
              "        </tr>\n",
              "        <tr>\n",
              "            <td>5321</td>\n",
              "            <td>David Koslicki</td>\n",
              "            <td>jht337@psu.edu</td>\n",
              "            <td>6337 N Albany Ave, Chicago, IL 60103</td>\n",
              "            <td>5321</td>\n",
              "            <td>David Sam Koslicki</td>\n",
              "            <td>5542123685429647</td>\n",
              "            <td>06/27</td>\n",
              "            <td>516</td>\n",
              "            <td>23429438291</td>\n",
              "            <td>Heavy</td>\n",
              "        </tr>\n",
              "    </tbody>\n",
              "</table>"
            ],
            "text/plain": [
              "[(2343, 'Harvey Specter', 'sdb@gmail.com', None, 2343, 'Harvey Specter', 8524125687459654, '03/25', 598, 64664278283, 'Light'),\n",
              " (3232, 'Austin Green', 'aug234@psu.edu', '587 Bulverde Pkwy, Birmingham, AL 54896', 3232, 'Austin F Green', 1452125456412341, '03/23', 615, 49499230211, 'Heavy'),\n",
              " (3920, 'Jonathan Sidwell', None, None, 3920, 'Jonathan G Sidwell', 2514563285469874, '02/22', 713, 93847272173, 'Heavy'),\n",
              " (4562, 'Sophia Zane', 'sza756@psu.edu', '657 Fox Ave, Memphis, TN 56412', 4562, 'Sophia Racheal Zane', 6422125485641345, '04/22', 145, 21123123293, 'Light'),\n",
              " (5321, 'David Koslicki', 'jht337@psu.edu', '6337 N Albany Ave, Chicago, IL 60103', 5321, 'David Sam Koslicki', 5542123685429647, '06/27', 516, 23429438291, 'Heavy')]"
            ]
          },
          "metadata": {
            "tags": []
          },
          "execution_count": 169
        }
      ]
    },
    {
      "cell_type": "code",
      "metadata": {
        "colab": {
          "base_uri": "https://localhost:8080/",
          "height": 174
        },
        "id": "4sMLMyjWp3-_",
        "outputId": "e54a177b-ef5c-4b78-b27e-b94fa4aada0c"
      },
      "source": [
        "%%sql\n",
        "\n",
        "SELECT *\n",
        "FROM GuestPayInfo"
      ],
      "execution_count": null,
      "outputs": [
        {
          "output_type": "stream",
          "text": [
            " * sqlite:///projectdb.db\n",
            "Done.\n"
          ],
          "name": "stdout"
        },
        {
          "output_type": "execute_result",
          "data": {
            "text/html": [
              "<table>\n",
              "    <thead>\n",
              "        <tr>\n",
              "            <th>memberID</th>\n",
              "            <th>memberCardName</th>\n",
              "            <th>memberCardNumber</th>\n",
              "            <th>memberCardExpiration</th>\n",
              "            <th>memberCardCSV</th>\n",
              "            <th>trackingID</th>\n",
              "            <th>packageinfo</th>\n",
              "        </tr>\n",
              "    </thead>\n",
              "    <tbody>\n",
              "        <tr>\n",
              "            <td>2343</td>\n",
              "            <td>Harvey Specter</td>\n",
              "            <td>8524125687459654</td>\n",
              "            <td>03/25</td>\n",
              "            <td>598</td>\n",
              "            <td>64664278283</td>\n",
              "            <td>Light</td>\n",
              "        </tr>\n",
              "        <tr>\n",
              "            <td>3232</td>\n",
              "            <td>Austin F Green</td>\n",
              "            <td>1452125456412341</td>\n",
              "            <td>03/23</td>\n",
              "            <td>615</td>\n",
              "            <td>49499230211</td>\n",
              "            <td>Heavy</td>\n",
              "        </tr>\n",
              "        <tr>\n",
              "            <td>3920</td>\n",
              "            <td>Jonathan G Sidwell</td>\n",
              "            <td>2514563285469874</td>\n",
              "            <td>02/22</td>\n",
              "            <td>713</td>\n",
              "            <td>93847272173</td>\n",
              "            <td>Heavy</td>\n",
              "        </tr>\n",
              "        <tr>\n",
              "            <td>4562</td>\n",
              "            <td>Sophia Racheal Zane</td>\n",
              "            <td>6422125485641345</td>\n",
              "            <td>04/22</td>\n",
              "            <td>145</td>\n",
              "            <td>21123123293</td>\n",
              "            <td>Light</td>\n",
              "        </tr>\n",
              "        <tr>\n",
              "            <td>5321</td>\n",
              "            <td>David Sam Koslicki</td>\n",
              "            <td>5542123685429647</td>\n",
              "            <td>06/27</td>\n",
              "            <td>516</td>\n",
              "            <td>23429438291</td>\n",
              "            <td>Heavy</td>\n",
              "        </tr>\n",
              "    </tbody>\n",
              "</table>"
            ],
            "text/plain": [
              "[(2343, 'Harvey Specter', 8524125687459654, '03/25', 598, 64664278283, 'Light'),\n",
              " (3232, 'Austin F Green', 1452125456412341, '03/23', 615, 49499230211, 'Heavy'),\n",
              " (3920, 'Jonathan G Sidwell', 2514563285469874, '02/22', 713, 93847272173, 'Heavy'),\n",
              " (4562, 'Sophia Racheal Zane', 6422125485641345, '04/22', 145, 21123123293, 'Light'),\n",
              " (5321, 'David Sam Koslicki', 5542123685429647, '06/27', 516, 23429438291, 'Heavy')]"
            ]
          },
          "metadata": {
            "tags": []
          },
          "execution_count": 170
        }
      ]
    },
    {
      "cell_type": "code",
      "metadata": {
        "colab": {
          "base_uri": "https://localhost:8080/"
        },
        "id": "vdY3mpA_ZUkn",
        "outputId": "88980d6f-da3f-4e7e-f3b2-79bcaf596150"
      },
      "source": [
        "%%sql\n",
        "\n",
        "UPDATE GuestPayInfo\n",
        "SET packageinfo='Heavy Duty'\n",
        "WHERE trackingID=93847272173"
      ],
      "execution_count": null,
      "outputs": [
        {
          "output_type": "stream",
          "text": [
            " * sqlite:///projectdb.db\n",
            "1 rows affected.\n"
          ],
          "name": "stdout"
        },
        {
          "output_type": "execute_result",
          "data": {
            "text/plain": [
              "[]"
            ]
          },
          "metadata": {
            "tags": []
          },
          "execution_count": 171
        }
      ]
    },
    {
      "cell_type": "code",
      "metadata": {
        "colab": {
          "base_uri": "https://localhost:8080/",
          "height": 174
        },
        "id": "gwR43kAqaBRt",
        "outputId": "53af9a3c-cb5d-4016-925a-1a6b80421aa1"
      },
      "source": [
        "%%sql\n",
        "\n",
        "SELECT *\n",
        "FROM GuestPayInfo"
      ],
      "execution_count": null,
      "outputs": [
        {
          "output_type": "stream",
          "text": [
            " * sqlite:///projectdb.db\n",
            "Done.\n"
          ],
          "name": "stdout"
        },
        {
          "output_type": "execute_result",
          "data": {
            "text/html": [
              "<table>\n",
              "    <thead>\n",
              "        <tr>\n",
              "            <th>memberID</th>\n",
              "            <th>memberCardName</th>\n",
              "            <th>memberCardNumber</th>\n",
              "            <th>memberCardExpiration</th>\n",
              "            <th>memberCardCSV</th>\n",
              "            <th>trackingID</th>\n",
              "            <th>packageinfo</th>\n",
              "        </tr>\n",
              "    </thead>\n",
              "    <tbody>\n",
              "        <tr>\n",
              "            <td>2343</td>\n",
              "            <td>Harvey Specter</td>\n",
              "            <td>8524125687459654</td>\n",
              "            <td>03/25</td>\n",
              "            <td>598</td>\n",
              "            <td>64664278283</td>\n",
              "            <td>Light</td>\n",
              "        </tr>\n",
              "        <tr>\n",
              "            <td>3232</td>\n",
              "            <td>Austin F Green</td>\n",
              "            <td>1452125456412341</td>\n",
              "            <td>03/23</td>\n",
              "            <td>615</td>\n",
              "            <td>49499230211</td>\n",
              "            <td>Heavy</td>\n",
              "        </tr>\n",
              "        <tr>\n",
              "            <td>3920</td>\n",
              "            <td>Jonathan G Sidwell</td>\n",
              "            <td>2514563285469874</td>\n",
              "            <td>02/22</td>\n",
              "            <td>713</td>\n",
              "            <td>93847272173</td>\n",
              "            <td>Heavy Duty</td>\n",
              "        </tr>\n",
              "        <tr>\n",
              "            <td>4562</td>\n",
              "            <td>Sophia Racheal Zane</td>\n",
              "            <td>6422125485641345</td>\n",
              "            <td>04/22</td>\n",
              "            <td>145</td>\n",
              "            <td>21123123293</td>\n",
              "            <td>Light</td>\n",
              "        </tr>\n",
              "        <tr>\n",
              "            <td>5321</td>\n",
              "            <td>David Sam Koslicki</td>\n",
              "            <td>5542123685429647</td>\n",
              "            <td>06/27</td>\n",
              "            <td>516</td>\n",
              "            <td>23429438291</td>\n",
              "            <td>Heavy</td>\n",
              "        </tr>\n",
              "    </tbody>\n",
              "</table>"
            ],
            "text/plain": [
              "[(2343, 'Harvey Specter', 8524125687459654, '03/25', 598, 64664278283, 'Light'),\n",
              " (3232, 'Austin F Green', 1452125456412341, '03/23', 615, 49499230211, 'Heavy'),\n",
              " (3920, 'Jonathan G Sidwell', 2514563285469874, '02/22', 713, 93847272173, 'Heavy Duty'),\n",
              " (4562, 'Sophia Racheal Zane', 6422125485641345, '04/22', 145, 21123123293, 'Light'),\n",
              " (5321, 'David Sam Koslicki', 5542123685429647, '06/27', 516, 23429438291, 'Heavy')]"
            ]
          },
          "metadata": {
            "tags": []
          },
          "execution_count": 172
        }
      ]
    }
  ]
}