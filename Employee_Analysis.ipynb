{
  "nbformat": 4,
  "nbformat_minor": 0,
  "metadata": {
    "colab": {
      "provenance": []
    },
    "kernelspec": {
      "name": "python3",
      "display_name": "Python 3"
    }
  },
  "cells": [
    {
      "cell_type": "code",
      "metadata": {
        "id": "0d-ciAfS3VPb"
      },
      "source": [
        "# to hide output of this cell\n",
        "%%capture\n",
        "\n",
        "!pip install ipython-sql\n",
        "!pip install databases\n",
        "!pip install databases[sqlite]"
      ],
      "execution_count": null,
      "outputs": []
    },
    {
      "cell_type": "code",
      "metadata": {
        "id": "AaaJSahj3nQ3",
        "colab": {
          "base_uri": "https://localhost:8080/",
          "height": 35
        },
        "outputId": "f30a6146-653a-434f-f454-c1049f480dda"
      },
      "source": [
        "import sqlalchemy\n",
        "%load_ext sql\n",
        "%sql sqlite:///projectdb.db"
      ],
      "execution_count": null,
      "outputs": [
        {
          "output_type": "execute_result",
          "data": {
            "application/vnd.google.colaboratory.intrinsic+json": {
              "type": "string"
            },
            "text/plain": [
              "'Connected: @projectdb.db'"
            ]
          },
          "metadata": {
            "tags": []
          },
          "execution_count": 2
        }
      ]
    },
    {
      "cell_type": "code",
      "metadata": {
        "id": "8sfCgPtY9ZlC",
        "colab": {
          "base_uri": "https://localhost:8080/"
        },
        "outputId": "c1ee9a15-cee4-4c01-cf07-7644c7674efd"
      },
      "source": [
        "%%sql\n",
        "\n",
        "DROP TABLE IF EXISTS [Position];\n",
        "CREATE TABLE [Position] (\n",
        "  [id] INTEGER PRIMARY KEY,\n",
        "  [position] nvarchar(250) NOT NULL,\n",
        "  [active] boolean boolean DEFAULT 1\n",
        ");\n",
        "\n",
        "DROP TABLE IF EXISTS [Activity];\n",
        "CREATE TABLE [Activity] (\n",
        "  [id] INTEGER PRIMARY KEY,\n",
        "  [activity] nvarchar(250) NOT NULL,\n",
        "  [active] boolean boolean DEFAULT 1\n",
        ");\n",
        "\n",
        "DROP TABLE IF EXISTS [Address];\n",
        "CREATE TABLE [Address] (\n",
        "  [id] INTEGER PRIMARY KEY,\n",
        "  [street_number] nvarchar(250),\n",
        "  [street_name] nvarchar(250) NOT NULL,\n",
        "  [zip_code] nvarchar(20),\n",
        "  [city] nvarchar(250) NOT NULL,\n",
        "  [state] nvarchar(200) NOT NULL,\n",
        "  [country] nvarchar(250)\n",
        ");\n",
        "\n",
        "\n",
        "DROP TABLE IF EXISTS [WorkProject];\n",
        "CREATE TABLE [WorkProject] (\n",
        "  [id] INTEGER PRIMARY KEY,\n",
        "  [project_name] nvarchar(250) NOT NULL,\n",
        "  [address_id] [int],\n",
        "  [date_created] datetime NOT NULL,\n",
        "  FOREIGN KEY ([address_id]) REFERENCES [Address] ([id])\n",
        "      ON DELETE SET NULL\n",
        ");\n",
        "\n",
        "\n",
        "DROP TABLE IF EXISTS [Employee];\n",
        "CREATE TABLE [Employee] (\n",
        "  [id] INTEGER PRIMARY KEY,\n",
        "  [surname] nvarchar(250) NOT NULL,\n",
        "  [firstname] nvarchar(250) NOT NULL,\n",
        "  [middlename] varchar(250),\n",
        "  [date_of_birth] date NOT NULL,\n",
        "  [active] boolean DEFAULT 1\n",
        ");\n",
        "\n",
        "\n",
        "DROP TABLE IF EXISTS [EmployeePosition];\n",
        "CREATE TABLE [EmployeePosition]  (\n",
        "  [id] INTEGER PRIMARY KEY,\n",
        "  [employee_id] int,\n",
        "  [position_id] int,\n",
        "  [charge_per_hour] float,\n",
        "  [start_date] datetime NOT NULL,\n",
        "  [end_date] datetime,\n",
        "  FOREIGN KEY ([employee_id]) REFERENCES [Employee] ([id]) ON DELETE SET NULL,\n",
        "  FOREIGN KEY ([position_id]) REFERENCES [Position] ([id]) ON DELETE SET NULL\n",
        ");\n",
        "\n",
        "\n",
        "DROP TABLE IF EXISTS [EmployeeProjectActivity];\n",
        "CREATE TABLE [EmployeeProjectActivity] (\n",
        "  [id] INTEGER PRIMARY KEY,\n",
        "  [employee_position_id] int,\n",
        "  [project_id] int,\n",
        "  [activity_id] int,\n",
        "  [activity_date] datetime NOT NULL,\n",
        "  [hours_billed] float4,\n",
        "  FOREIGN KEY ([project_id]) REFERENCES [WorkProject] ([id]) ON DELETE SET NULL\n",
        "  FOREIGN KEY ([employee_position_id]) REFERENCES [EmployeePosition] ([id]) ON DELETE SET NULL\n",
        ");\n",
        "\n",
        "DROP TABLE IF EXISTS [EmployeeAddress];\n",
        "CREATE TABLE [EmployeeAddress] (\n",
        "  [employee_id] int,\n",
        "  [address_id] int,\n",
        "  [start_date] datetime NOT NULL,\n",
        "  [end_date] datetime NULL,\n",
        "  PRIMARY KEY ([employee_id], [address_id]),\n",
        "  FOREIGN KEY ([employee_id]) REFERENCES [Employee] ([id]) ON DELETE SET NULL\n",
        ");\n",
        "\n"
      ],
      "execution_count": null,
      "outputs": [
        {
          "output_type": "stream",
          "text": [
            " * sqlite:///projectdb.db\n",
            "Done.\n",
            "Done.\n",
            "Done.\n",
            "Done.\n",
            "Done.\n",
            "Done.\n",
            "Done.\n",
            "Done.\n",
            "Done.\n",
            "Done.\n",
            "Done.\n",
            "Done.\n",
            "Done.\n",
            "Done.\n",
            "Done.\n",
            "Done.\n"
          ],
          "name": "stdout"
        },
        {
          "output_type": "execute_result",
          "data": {
            "text/plain": [
              "[]"
            ]
          },
          "metadata": {
            "tags": []
          },
          "execution_count": 3
        }
      ]
    },
    {
      "cell_type": "code",
      "metadata": {
        "id": "RGLkhy9SyUUz",
        "colab": {
          "base_uri": "https://localhost:8080/",
          "height": 92
        },
        "outputId": "38c28b98-9796-48ed-b1fa-b5747769af1d"
      },
      "source": [
        "%%sql\n",
        "\n",
        "PRAGMA foreign_keys;"
      ],
      "execution_count": null,
      "outputs": [
        {
          "output_type": "stream",
          "text": [
            " * sqlite:///projectdb.db\n",
            "Done.\n"
          ],
          "name": "stdout"
        },
        {
          "output_type": "execute_result",
          "data": {
            "text/html": [
              "<table>\n",
              "    <thead>\n",
              "        <tr>\n",
              "            <th>foreign_keys</th>\n",
              "        </tr>\n",
              "    </thead>\n",
              "    <tbody>\n",
              "        <tr>\n",
              "            <td>1</td>\n",
              "        </tr>\n",
              "    </tbody>\n",
              "</table>"
            ],
            "text/plain": [
              "[(1,)]"
            ]
          },
          "metadata": {
            "tags": []
          },
          "execution_count": 6
        }
      ]
    },
    {
      "cell_type": "code",
      "metadata": {
        "id": "0tsZiBLTy8uY",
        "colab": {
          "base_uri": "https://localhost:8080/"
        },
        "outputId": "cbd4357d-441a-46b9-e443-54c075157fcb"
      },
      "source": [
        "# We can enable foreign key contraints\n",
        "\n",
        "%%sql\n",
        "\n",
        "PRAGMA foreign_keys = ON;"
      ],
      "execution_count": null,
      "outputs": [
        {
          "output_type": "stream",
          "text": [
            " * sqlite:///projectdb.db\n",
            "Done.\n"
          ],
          "name": "stdout"
        },
        {
          "output_type": "execute_result",
          "data": {
            "text/plain": [
              "[]"
            ]
          },
          "metadata": {
            "tags": []
          },
          "execution_count": 5
        }
      ]
    },
    {
      "cell_type": "markdown",
      "metadata": {
        "id": "khAr05eqxFGg"
      },
      "source": [
        "### Showing table definitions using the SQLite pragma command."
      ]
    },
    {
      "cell_type": "code",
      "metadata": {
        "id": "Jbs-02d_BJMy",
        "colab": {
          "base_uri": "https://localhost:8080/",
          "height": 149
        },
        "outputId": "55a8c5ef-f619-4276-b5cf-eb43b58a2f82"
      },
      "source": [
        "print('Position Table')\n",
        "%sql pragma table_info('Position');\n"
      ],
      "execution_count": null,
      "outputs": [
        {
          "output_type": "stream",
          "text": [
            "Position Table\n",
            " * sqlite:///projectdb.db\n",
            "Done.\n"
          ],
          "name": "stdout"
        },
        {
          "output_type": "execute_result",
          "data": {
            "text/html": [
              "<table>\n",
              "    <thead>\n",
              "        <tr>\n",
              "            <th>cid</th>\n",
              "            <th>name</th>\n",
              "            <th>type</th>\n",
              "            <th>notnull</th>\n",
              "            <th>dflt_value</th>\n",
              "            <th>pk</th>\n",
              "        </tr>\n",
              "    </thead>\n",
              "    <tbody>\n",
              "        <tr>\n",
              "            <td>0</td>\n",
              "            <td>id</td>\n",
              "            <td>INTEGER</td>\n",
              "            <td>0</td>\n",
              "            <td>None</td>\n",
              "            <td>1</td>\n",
              "        </tr>\n",
              "        <tr>\n",
              "            <td>1</td>\n",
              "            <td>position</td>\n",
              "            <td>nvarchar(250)</td>\n",
              "            <td>1</td>\n",
              "            <td>None</td>\n",
              "            <td>0</td>\n",
              "        </tr>\n",
              "        <tr>\n",
              "            <td>2</td>\n",
              "            <td>active</td>\n",
              "            <td>boolean boolean</td>\n",
              "            <td>0</td>\n",
              "            <td>1</td>\n",
              "            <td>0</td>\n",
              "        </tr>\n",
              "    </tbody>\n",
              "</table>"
            ],
            "text/plain": [
              "[(0, 'id', 'INTEGER', 0, None, 1),\n",
              " (1, 'position', 'nvarchar(250)', 1, None, 0),\n",
              " (2, 'active', 'boolean boolean', 0, '1', 0)]"
            ]
          },
          "metadata": {
            "tags": []
          },
          "execution_count": 7
        }
      ]
    },
    {
      "cell_type": "code",
      "metadata": {
        "id": "AA21j2UlNtto",
        "colab": {
          "base_uri": "https://localhost:8080/",
          "height": 154
        },
        "outputId": "3607141c-357a-4a08-b79e-7b41880f3631"
      },
      "source": [
        "print('Activity Table')\n",
        "%sql pragma table_info('Activity');"
      ],
      "execution_count": null,
      "outputs": [
        {
          "output_type": "stream",
          "text": [
            "Activity Table\n",
            " * sqlite:///projectdb.db\n",
            "Done.\n"
          ],
          "name": "stdout"
        },
        {
          "output_type": "execute_result",
          "data": {
            "text/html": [
              "<table>\n",
              "    <tr>\n",
              "        <th>cid</th>\n",
              "        <th>name</th>\n",
              "        <th>type</th>\n",
              "        <th>notnull</th>\n",
              "        <th>dflt_value</th>\n",
              "        <th>pk</th>\n",
              "    </tr>\n",
              "    <tr>\n",
              "        <td>0</td>\n",
              "        <td>id</td>\n",
              "        <td>INTEGER</td>\n",
              "        <td>0</td>\n",
              "        <td>None</td>\n",
              "        <td>1</td>\n",
              "    </tr>\n",
              "    <tr>\n",
              "        <td>1</td>\n",
              "        <td>activity</td>\n",
              "        <td>nvarchar(250)</td>\n",
              "        <td>1</td>\n",
              "        <td>None</td>\n",
              "        <td>0</td>\n",
              "    </tr>\n",
              "    <tr>\n",
              "        <td>2</td>\n",
              "        <td>active</td>\n",
              "        <td>boolean boolean</td>\n",
              "        <td>0</td>\n",
              "        <td>1</td>\n",
              "        <td>0</td>\n",
              "    </tr>\n",
              "</table>"
            ],
            "text/plain": [
              "[(0, 'id', 'INTEGER', 0, None, 1),\n",
              " (1, 'activity', 'nvarchar(250)', 1, None, 0),\n",
              " (2, 'active', 'boolean boolean', 0, '1', 0)]"
            ]
          },
          "metadata": {
            "tags": []
          },
          "execution_count": 7
        }
      ]
    },
    {
      "cell_type": "code",
      "metadata": {
        "id": "b9SL5zPuN9-5",
        "colab": {
          "base_uri": "https://localhost:8080/",
          "height": 175
        },
        "outputId": "9433bc39-a0d4-461f-d17a-10cb2ee24140"
      },
      "source": [
        "print('WorkProject Table')\n",
        "%sql pragma table_info('WorkProject');\n"
      ],
      "execution_count": null,
      "outputs": [
        {
          "output_type": "stream",
          "text": [
            "WorkProject Table\n",
            " * sqlite:///projectdb.db\n",
            "Done.\n"
          ],
          "name": "stdout"
        },
        {
          "output_type": "execute_result",
          "data": {
            "text/html": [
              "<table>\n",
              "    <tr>\n",
              "        <th>cid</th>\n",
              "        <th>name</th>\n",
              "        <th>type</th>\n",
              "        <th>notnull</th>\n",
              "        <th>dflt_value</th>\n",
              "        <th>pk</th>\n",
              "    </tr>\n",
              "    <tr>\n",
              "        <td>0</td>\n",
              "        <td>id</td>\n",
              "        <td>INTEGER</td>\n",
              "        <td>0</td>\n",
              "        <td>None</td>\n",
              "        <td>1</td>\n",
              "    </tr>\n",
              "    <tr>\n",
              "        <td>1</td>\n",
              "        <td>project_name</td>\n",
              "        <td>nvarchar(250)</td>\n",
              "        <td>1</td>\n",
              "        <td>None</td>\n",
              "        <td>0</td>\n",
              "    </tr>\n",
              "    <tr>\n",
              "        <td>2</td>\n",
              "        <td>address_id</td>\n",
              "        <td>int</td>\n",
              "        <td>0</td>\n",
              "        <td>None</td>\n",
              "        <td>0</td>\n",
              "    </tr>\n",
              "    <tr>\n",
              "        <td>3</td>\n",
              "        <td>date_created</td>\n",
              "        <td>datetime</td>\n",
              "        <td>1</td>\n",
              "        <td>None</td>\n",
              "        <td>0</td>\n",
              "    </tr>\n",
              "</table>"
            ],
            "text/plain": [
              "[(0, 'id', 'INTEGER', 0, None, 1),\n",
              " (1, 'project_name', 'nvarchar(250)', 1, None, 0),\n",
              " (2, 'address_id', 'int', 0, None, 0),\n",
              " (3, 'date_created', 'datetime', 1, None, 0)]"
            ]
          },
          "metadata": {
            "tags": []
          },
          "execution_count": 8
        }
      ]
    },
    {
      "cell_type": "code",
      "metadata": {
        "id": "rVkkBt5aOQ3h",
        "colab": {
          "base_uri": "https://localhost:8080/",
          "height": 217
        },
        "outputId": "54678a9b-7522-40a2-e14f-49b28b32797e"
      },
      "source": [
        "print('EmployeePosition Table')\n",
        "%sql pragma table_info('EmployeePosition');"
      ],
      "execution_count": null,
      "outputs": [
        {
          "output_type": "stream",
          "text": [
            "EmployeePosition Table\n",
            " * sqlite:///projectdb.db\n",
            "Done.\n"
          ],
          "name": "stdout"
        },
        {
          "output_type": "execute_result",
          "data": {
            "text/html": [
              "<table>\n",
              "    <tr>\n",
              "        <th>cid</th>\n",
              "        <th>name</th>\n",
              "        <th>type</th>\n",
              "        <th>notnull</th>\n",
              "        <th>dflt_value</th>\n",
              "        <th>pk</th>\n",
              "    </tr>\n",
              "    <tr>\n",
              "        <td>0</td>\n",
              "        <td>id</td>\n",
              "        <td>INTEGER</td>\n",
              "        <td>0</td>\n",
              "        <td>None</td>\n",
              "        <td>1</td>\n",
              "    </tr>\n",
              "    <tr>\n",
              "        <td>1</td>\n",
              "        <td>employee_id</td>\n",
              "        <td>int</td>\n",
              "        <td>0</td>\n",
              "        <td>None</td>\n",
              "        <td>0</td>\n",
              "    </tr>\n",
              "    <tr>\n",
              "        <td>2</td>\n",
              "        <td>position_id</td>\n",
              "        <td>int</td>\n",
              "        <td>0</td>\n",
              "        <td>None</td>\n",
              "        <td>0</td>\n",
              "    </tr>\n",
              "    <tr>\n",
              "        <td>3</td>\n",
              "        <td>charge_per_hour</td>\n",
              "        <td>float</td>\n",
              "        <td>0</td>\n",
              "        <td>None</td>\n",
              "        <td>0</td>\n",
              "    </tr>\n",
              "    <tr>\n",
              "        <td>4</td>\n",
              "        <td>start_date</td>\n",
              "        <td>datetime</td>\n",
              "        <td>1</td>\n",
              "        <td>None</td>\n",
              "        <td>0</td>\n",
              "    </tr>\n",
              "    <tr>\n",
              "        <td>5</td>\n",
              "        <td>end_date</td>\n",
              "        <td>datetime</td>\n",
              "        <td>0</td>\n",
              "        <td>None</td>\n",
              "        <td>0</td>\n",
              "    </tr>\n",
              "</table>"
            ],
            "text/plain": [
              "[(0, 'id', 'INTEGER', 0, None, 1),\n",
              " (1, 'employee_id', 'int', 0, None, 0),\n",
              " (2, 'position_id', 'int', 0, None, 0),\n",
              " (3, 'charge_per_hour', 'float', 0, None, 0),\n",
              " (4, 'start_date', 'datetime', 1, None, 0),\n",
              " (5, 'end_date', 'datetime', 0, None, 0)]"
            ]
          },
          "metadata": {
            "tags": []
          },
          "execution_count": 9
        }
      ]
    },
    {
      "cell_type": "code",
      "metadata": {
        "id": "NZzoAeF3OcF4",
        "colab": {
          "base_uri": "https://localhost:8080/",
          "height": 217
        },
        "outputId": "5b857382-f8aa-4829-8b3b-139a088abf00"
      },
      "source": [
        "print('EmployeeProjectActivity Table')\n",
        "%sql pragma table_info('EmployeeProjectActivity');\n"
      ],
      "execution_count": null,
      "outputs": [
        {
          "output_type": "stream",
          "text": [
            "EmployeeProjectActivity Table\n",
            " * sqlite:///projectdb.db\n",
            "Done.\n"
          ],
          "name": "stdout"
        },
        {
          "output_type": "execute_result",
          "data": {
            "text/html": [
              "<table>\n",
              "    <tr>\n",
              "        <th>cid</th>\n",
              "        <th>name</th>\n",
              "        <th>type</th>\n",
              "        <th>notnull</th>\n",
              "        <th>dflt_value</th>\n",
              "        <th>pk</th>\n",
              "    </tr>\n",
              "    <tr>\n",
              "        <td>0</td>\n",
              "        <td>id</td>\n",
              "        <td>INTEGER</td>\n",
              "        <td>0</td>\n",
              "        <td>None</td>\n",
              "        <td>1</td>\n",
              "    </tr>\n",
              "    <tr>\n",
              "        <td>1</td>\n",
              "        <td>employee_position_id</td>\n",
              "        <td>int</td>\n",
              "        <td>0</td>\n",
              "        <td>None</td>\n",
              "        <td>0</td>\n",
              "    </tr>\n",
              "    <tr>\n",
              "        <td>2</td>\n",
              "        <td>project_id</td>\n",
              "        <td>int</td>\n",
              "        <td>0</td>\n",
              "        <td>None</td>\n",
              "        <td>0</td>\n",
              "    </tr>\n",
              "    <tr>\n",
              "        <td>3</td>\n",
              "        <td>activity_id</td>\n",
              "        <td>int</td>\n",
              "        <td>0</td>\n",
              "        <td>None</td>\n",
              "        <td>0</td>\n",
              "    </tr>\n",
              "    <tr>\n",
              "        <td>4</td>\n",
              "        <td>activity_date</td>\n",
              "        <td>datetime</td>\n",
              "        <td>1</td>\n",
              "        <td>None</td>\n",
              "        <td>0</td>\n",
              "    </tr>\n",
              "    <tr>\n",
              "        <td>5</td>\n",
              "        <td>hours_billed</td>\n",
              "        <td>float4</td>\n",
              "        <td>0</td>\n",
              "        <td>None</td>\n",
              "        <td>0</td>\n",
              "    </tr>\n",
              "</table>"
            ],
            "text/plain": [
              "[(0, 'id', 'INTEGER', 0, None, 1),\n",
              " (1, 'employee_position_id', 'int', 0, None, 0),\n",
              " (2, 'project_id', 'int', 0, None, 0),\n",
              " (3, 'activity_id', 'int', 0, None, 0),\n",
              " (4, 'activity_date', 'datetime', 1, None, 0),\n",
              " (5, 'hours_billed', 'float4', 0, None, 0)]"
            ]
          },
          "metadata": {
            "tags": []
          },
          "execution_count": 10
        }
      ]
    },
    {
      "cell_type": "code",
      "metadata": {
        "id": "AUHixWh9OsoQ",
        "colab": {
          "base_uri": "https://localhost:8080/",
          "height": 175
        },
        "outputId": "15d5facb-b046-4703-b7e2-cc297faacbab"
      },
      "source": [
        "print('EmployeeAddress Table')\n",
        "%sql pragma table_info('EmployeeAddress');"
      ],
      "execution_count": null,
      "outputs": [
        {
          "output_type": "stream",
          "text": [
            "EmployeeAddress Table\n",
            " * sqlite:///projectdb.db\n",
            "Done.\n"
          ],
          "name": "stdout"
        },
        {
          "output_type": "execute_result",
          "data": {
            "text/html": [
              "<table>\n",
              "    <tr>\n",
              "        <th>cid</th>\n",
              "        <th>name</th>\n",
              "        <th>type</th>\n",
              "        <th>notnull</th>\n",
              "        <th>dflt_value</th>\n",
              "        <th>pk</th>\n",
              "    </tr>\n",
              "    <tr>\n",
              "        <td>0</td>\n",
              "        <td>employee_id</td>\n",
              "        <td>int</td>\n",
              "        <td>0</td>\n",
              "        <td>None</td>\n",
              "        <td>1</td>\n",
              "    </tr>\n",
              "    <tr>\n",
              "        <td>1</td>\n",
              "        <td>address_id</td>\n",
              "        <td>int</td>\n",
              "        <td>0</td>\n",
              "        <td>None</td>\n",
              "        <td>2</td>\n",
              "    </tr>\n",
              "    <tr>\n",
              "        <td>2</td>\n",
              "        <td>start_date</td>\n",
              "        <td>datetime</td>\n",
              "        <td>1</td>\n",
              "        <td>None</td>\n",
              "        <td>0</td>\n",
              "    </tr>\n",
              "    <tr>\n",
              "        <td>3</td>\n",
              "        <td>end_date</td>\n",
              "        <td>datetime</td>\n",
              "        <td>0</td>\n",
              "        <td>None</td>\n",
              "        <td>0</td>\n",
              "    </tr>\n",
              "</table>"
            ],
            "text/plain": [
              "[(0, 'employee_id', 'int', 0, None, 1),\n",
              " (1, 'address_id', 'int', 0, None, 2),\n",
              " (2, 'start_date', 'datetime', 1, None, 0),\n",
              " (3, 'end_date', 'datetime', 0, None, 0)]"
            ]
          },
          "metadata": {
            "tags": []
          },
          "execution_count": 11
        }
      ]
    },
    {
      "cell_type": "markdown",
      "metadata": {
        "id": "32tgydJ_xSO_"
      },
      "source": [
        "### Initializing our tables with data.\n",
        "\n",
        "We start with populating the reference tables before populating the child tables.\n"
      ]
    },
    {
      "cell_type": "code",
      "metadata": {
        "id": "nVDnhg15_JkZ",
        "colab": {
          "base_uri": "https://localhost:8080/"
        },
        "outputId": "22e71d1e-3997-40fe-a601-e4fe7cebbc60"
      },
      "source": [
        "%%sql\n",
        "\n",
        "INSERT INTO Position([position]) VALUES ('Elec. Engineer');\n",
        "INSERT INTO Position([position]) VALUES ('Database Designer');\n",
        "INSERT INTO Position([position]) VALUES ('Programmer');\n",
        "INSERT INTO Position([position]) VALUES ('Systems Analyst');\n",
        "INSERT INTO Position([position]) VALUES ('Applications Designer');\n",
        "INSERT INTO Position([position]) VALUES ('General Support');\n",
        "INSERT INTO Position([position]) VALUES ('DSS Analyst');\n",
        "INSERT INTO Position([position]) VALUES ('Clerical Support');"
      ],
      "execution_count": null,
      "outputs": [
        {
          "output_type": "stream",
          "text": [
            " * sqlite:///projectdb.db\n",
            "1 rows affected.\n",
            "1 rows affected.\n",
            "1 rows affected.\n",
            "1 rows affected.\n",
            "1 rows affected.\n",
            "1 rows affected.\n",
            "1 rows affected.\n",
            "1 rows affected.\n"
          ],
          "name": "stdout"
        },
        {
          "output_type": "execute_result",
          "data": {
            "text/plain": [
              "[]"
            ]
          },
          "metadata": {
            "tags": []
          },
          "execution_count": 8
        }
      ]
    },
    {
      "cell_type": "code",
      "metadata": {
        "id": "WIe4Np_VQ1cd",
        "colab": {
          "base_uri": "https://localhost:8080/",
          "height": 232
        },
        "outputId": "73a9e72d-e32b-48ba-9f70-b530d0ac8b9b"
      },
      "source": [
        "%%sql\n",
        "\n",
        "SELECT *\n",
        "FROM Position;"
      ],
      "execution_count": null,
      "outputs": [
        {
          "output_type": "stream",
          "text": [
            " * sqlite:///projectdb.db\n",
            "Done.\n"
          ],
          "name": "stdout"
        },
        {
          "output_type": "execute_result",
          "data": {
            "text/html": [
              "<table>\n",
              "    <thead>\n",
              "        <tr>\n",
              "            <th>id</th>\n",
              "            <th>position</th>\n",
              "            <th>active</th>\n",
              "        </tr>\n",
              "    </thead>\n",
              "    <tbody>\n",
              "        <tr>\n",
              "            <td>1</td>\n",
              "            <td>Elec. Engineer</td>\n",
              "            <td>1</td>\n",
              "        </tr>\n",
              "        <tr>\n",
              "            <td>2</td>\n",
              "            <td>Database Designer</td>\n",
              "            <td>1</td>\n",
              "        </tr>\n",
              "        <tr>\n",
              "            <td>3</td>\n",
              "            <td>Programmer</td>\n",
              "            <td>1</td>\n",
              "        </tr>\n",
              "        <tr>\n",
              "            <td>4</td>\n",
              "            <td>Systems Analyst</td>\n",
              "            <td>1</td>\n",
              "        </tr>\n",
              "        <tr>\n",
              "            <td>5</td>\n",
              "            <td>Applications Designer</td>\n",
              "            <td>1</td>\n",
              "        </tr>\n",
              "        <tr>\n",
              "            <td>6</td>\n",
              "            <td>General Support</td>\n",
              "            <td>1</td>\n",
              "        </tr>\n",
              "        <tr>\n",
              "            <td>7</td>\n",
              "            <td>DSS Analyst</td>\n",
              "            <td>1</td>\n",
              "        </tr>\n",
              "        <tr>\n",
              "            <td>8</td>\n",
              "            <td>Clerical Support</td>\n",
              "            <td>1</td>\n",
              "        </tr>\n",
              "    </tbody>\n",
              "</table>"
            ],
            "text/plain": [
              "[(1, 'Elec. Engineer', 1),\n",
              " (2, 'Database Designer', 1),\n",
              " (3, 'Programmer', 1),\n",
              " (4, 'Systems Analyst', 1),\n",
              " (5, 'Applications Designer', 1),\n",
              " (6, 'General Support', 1),\n",
              " (7, 'DSS Analyst', 1),\n",
              " (8, 'Clerical Support', 1)]"
            ]
          },
          "metadata": {
            "tags": []
          },
          "execution_count": 9
        }
      ]
    },
    {
      "cell_type": "code",
      "metadata": {
        "id": "B7Yy4jbZQBfZ",
        "colab": {
          "base_uri": "https://localhost:8080/"
        },
        "outputId": "ec6f72f0-8106-43f0-c0d9-8375832ce165"
      },
      "source": [
        "%%sql\n",
        "\n",
        "INSERT INTO Address([street_number],[street_name],[zip_code],[city],[state],[country]) VALUES ('2A', 'Lincoln Ave.', '96522', 'Mankato', 'Mississippi', 'USA');\n",
        "INSERT INTO Address([street_number],[street_name],[zip_code],[city],[state],[country]) VALUES ('Theodore Lowe', 'Ap #867-859 Sit Rd.', '39531', 'Azusa', 'New York', 'USA');\n",
        "INSERT INTO Address([street_number],[street_name],[zip_code],[city],[state],[country]) VALUES ('313', 'Pellentesque Ave', '43526', 'Mankato', 'Hawaii', 'USA');\n",
        "INSERT INTO Address([street_number],[street_name],[zip_code],[city],[state],[country]) VALUES ('987-4223', 'LUrna St.', '96522', 'Savannah ', 'Illinois', 'USA');\n",
        "INSERT INTO Address([street_number],[street_name],[zip_code],[city],[state],[country]) VALUES ('Ap #784-1887', 'Lobortis Ave', '31522', 'Cudahy', 'Ohio', 'USA');\n",
        "INSERT INTO Address([street_number],[street_name],[zip_code],[city],[state],[country]) VALUES ('3714', 'Nascetur St', '10626', 'Hawthorne', 'Louisiana', 'USA');"
      ],
      "execution_count": null,
      "outputs": [
        {
          "output_type": "stream",
          "text": [
            " * sqlite:///projectdb.db\n",
            "1 rows affected.\n",
            "1 rows affected.\n",
            "1 rows affected.\n",
            "1 rows affected.\n",
            "1 rows affected.\n",
            "1 rows affected.\n"
          ],
          "name": "stdout"
        },
        {
          "output_type": "execute_result",
          "data": {
            "text/plain": [
              "[]"
            ]
          },
          "metadata": {
            "tags": []
          },
          "execution_count": 10
        }
      ]
    },
    {
      "cell_type": "code",
      "metadata": {
        "id": "J18zppIKRa-L",
        "colab": {
          "base_uri": "https://localhost:8080/"
        },
        "outputId": "245ecf51-393e-4734-d2c6-92c3cd6a2125"
      },
      "source": [
        "%%sql\n",
        "\n",
        "INSERT INTO WorkProject([project_name],[address_id],[date_created]) VALUES ('Evergreen', 2, date());\n",
        "INSERT INTO WorkProject([project_name],[address_id],[date_created]) VALUES ('Amber Wave', 3, date());\n",
        "INSERT INTO WorkProject([project_name],[address_id],[date_created]) VALUES ('Rolling Table', 2, date());\n",
        "INSERT INTO WorkProject([project_name],[address_id],[date_created]) VALUES ('Starflight', 5, date());"
      ],
      "execution_count": null,
      "outputs": [
        {
          "output_type": "stream",
          "text": [
            " * sqlite:///projectdb.db\n",
            "1 rows affected.\n",
            "1 rows affected.\n",
            "1 rows affected.\n",
            "1 rows affected.\n"
          ],
          "name": "stdout"
        },
        {
          "output_type": "execute_result",
          "data": {
            "text/plain": [
              "[]"
            ]
          },
          "metadata": {
            "tags": []
          },
          "execution_count": 11
        }
      ]
    },
    {
      "cell_type": "code",
      "metadata": {
        "id": "C0thdphpRuzK",
        "colab": {
          "base_uri": "https://localhost:8080/"
        },
        "outputId": "9b43765d-bb2f-4c4d-f7c3-7334d7511fba"
      },
      "source": [
        "%%sql\n",
        "\n",
        "/* Employee data */\n",
        "INSERT INTO Employee([surname], [middlename], [firstname], [date_of_birth]) VALUES ('Arbough', 'Earl', 'June', '1998-03-10');\n",
        "INSERT INTO Employee([surname], [middlename], [firstname],[date_of_birth]) VALUES ('News', 'Gerald', 'John', '1965-03-10');\n",
        "INSERT INTO Employee([surname], [middlename], [firstname],[date_of_birth]) VALUES ('Johnson', 'Karen', 'Alice', '1980-04-03');\n",
        "INSERT INTO Employee([surname], [middlename], [firstname],[date_of_birth]) VALUES ('Smithfield', '', 'William', '1968-09-17');\n",
        "INSERT INTO Employee([surname], [middlename], [firstname],[date_of_birth]) VALUES ('Senior', 'Harold', 'David', '1975-06-14');\n",
        "\n",
        "INSERT INTO Employee([surname], [middlename], [firstname],[date_of_birth]) VALUES ('Annelise', '', 'Jones', '1970-04-20');\n",
        "INSERT INTO Employee([surname], [middlename], [firstname],[date_of_birth]) VALUES ('Frommer', 'John', 'James', '1997-06-12');\n",
        "INSERT INTO Employee([surname], [middlename], [firstname],[date_of_birth]) VALUES ('Ramoras', 'Katie', 'Anne', '1985-01-23');\n",
        "INSERT INTO Employee([surname], [middlename], [firstname],[date_of_birth]) VALUES ('Smithson', 'Mary', 'David', '1960-05-04');"
      ],
      "execution_count": null,
      "outputs": [
        {
          "output_type": "stream",
          "text": [
            " * sqlite:///projectdb.db\n",
            "Done.\n",
            "1 rows affected.\n",
            "1 rows affected.\n",
            "1 rows affected.\n",
            "1 rows affected.\n",
            "1 rows affected.\n",
            "1 rows affected.\n",
            "1 rows affected.\n",
            "1 rows affected.\n"
          ],
          "name": "stdout"
        },
        {
          "output_type": "execute_result",
          "data": {
            "text/plain": [
              "[]"
            ]
          },
          "metadata": {
            "tags": []
          },
          "execution_count": 12
        }
      ]
    },
    {
      "cell_type": "code",
      "metadata": {
        "id": "MAjpggTYThTw",
        "colab": {
          "base_uri": "https://localhost:8080/"
        },
        "outputId": "4ef1d3dd-12e3-45ad-e6bc-fc77fbaca4fe"
      },
      "source": [
        "%%sql\n",
        "\n",
        "INSERT INTO Activity([activity]) VALUES ('Weekly Project Meeting');\n",
        "INSERT INTO Activity([activity]) VALUES ('Requirements Gathering');\n",
        "INSERT INTO Activity([activity]) VALUES ('Inventory Analysis');\n",
        "INSERT INTO Activity([activity]) VALUES ('Inventory Validation');\n",
        "INSERT INTO Activity([activity]) VALUES ('Weekly Project Meeting');\n",
        "INSERT INTO Activity([activity]) VALUES ('Instrument Repairs');\n",
        "INSERT INTO Activity([activity]) VALUES ('Design Specifications');\n",
        "INSERT INTO Activity([activity]) VALUES ('Troubleshooting');\n",
        "INSERT INTO Activity([activity]) VALUES ('DB Modeling');\n",
        "INSERT INTO Activity([activity]) VALUES ('Reporting');\n",
        "INSERT INTO Activity([activity]) VALUES ('Query Generation');\n",
        "INSERT INTO Activity([activity]) VALUES ('Software Maintenance');\n",
        "INSERT INTO Activity([activity]) VALUES ('Building mockups');\n"
      ],
      "execution_count": null,
      "outputs": [
        {
          "output_type": "stream",
          "text": [
            " * sqlite:///projectdb.db\n",
            "1 rows affected.\n",
            "1 rows affected.\n",
            "1 rows affected.\n",
            "1 rows affected.\n",
            "1 rows affected.\n",
            "1 rows affected.\n",
            "1 rows affected.\n",
            "1 rows affected.\n",
            "1 rows affected.\n",
            "1 rows affected.\n",
            "1 rows affected.\n",
            "1 rows affected.\n",
            "1 rows affected.\n"
          ],
          "name": "stdout"
        },
        {
          "output_type": "execute_result",
          "data": {
            "text/plain": [
              "[]"
            ]
          },
          "metadata": {
            "tags": []
          },
          "execution_count": 13
        }
      ]
    },
    {
      "cell_type": "code",
      "metadata": {
        "id": "v8L6j4JQVZ7E",
        "colab": {
          "base_uri": "https://localhost:8080/"
        },
        "outputId": "3789eca3-a68c-4b6d-a014-0367b4c6976b"
      },
      "source": [
        "%%sql\n",
        "\n",
        "INSERT INTO EmployeePosition([employee_id], [position_id],[charge_per_hour], [start_date]) VALUES (1, 2,  85.5, '2015-01-01');\n",
        "INSERT INTO EmployeePosition([employee_id], [position_id],[charge_per_hour], [start_date]) VALUES (2, 2,  105.5, '2019-03-20');\n",
        "INSERT INTO EmployeePosition([employee_id], [position_id],[charge_per_hour], [start_date]) VALUES (3, 3,  37.5, '2017-04-04');\n",
        "INSERT INTO EmployeePosition([employee_id], [position_id],[charge_per_hour], [start_date]) VALUES (4, 4,  96.5, '2018-10-13');\n",
        "INSERT INTO EmployeePosition([employee_id], [position_id],[charge_per_hour], [start_date]) VALUES (5, 5,  26.5, '2019-09-05');\n",
        "INSERT INTO EmployeePosition([employee_id], [position_id],[charge_per_hour], [start_date]) VALUES (6, 2,  85.5, '2012-02-03');\n",
        "INSERT INTO EmployeePosition([employee_id], [position_id],[charge_per_hour], [start_date]) VALUES (7, 3,  50.5, '2014-05-01');\n",
        "INSERT INTO EmployeePosition([employee_id], [position_id],[charge_per_hour], [start_date]) VALUES (8, 4,  65.5, '2016-03-04');\n",
        "INSERT INTO EmployeePosition([employee_id], [position_id],[charge_per_hour], [start_date]) VALUES (9, 2,  85.5, '2017-04-03');"
      ],
      "execution_count": null,
      "outputs": [
        {
          "output_type": "stream",
          "text": [
            " * sqlite:///projectdb.db\n",
            "1 rows affected.\n",
            "1 rows affected.\n",
            "1 rows affected.\n",
            "1 rows affected.\n",
            "1 rows affected.\n",
            "1 rows affected.\n",
            "1 rows affected.\n",
            "1 rows affected.\n",
            "1 rows affected.\n"
          ],
          "name": "stdout"
        },
        {
          "output_type": "execute_result",
          "data": {
            "text/plain": [
              "[]"
            ]
          },
          "metadata": {
            "tags": []
          },
          "execution_count": 14
        }
      ]
    },
    {
      "cell_type": "code",
      "metadata": {
        "id": "19pnNbxXRKZ9",
        "colab": {
          "base_uri": "https://localhost:8080/",
          "height": 252
        },
        "outputId": "95c138ea-ef4d-4c54-b50e-bb7f248d66af"
      },
      "source": [
        "%%sql\n",
        "\n",
        "SELECT *\n",
        "FROM EmployeePosition"
      ],
      "execution_count": null,
      "outputs": [
        {
          "output_type": "stream",
          "text": [
            " * sqlite:///projectdb.db\n",
            "Done.\n"
          ],
          "name": "stdout"
        },
        {
          "output_type": "execute_result",
          "data": {
            "text/html": [
              "<table>\n",
              "    <thead>\n",
              "        <tr>\n",
              "            <th>id</th>\n",
              "            <th>employee_id</th>\n",
              "            <th>position_id</th>\n",
              "            <th>charge_per_hour</th>\n",
              "            <th>start_date</th>\n",
              "            <th>end_date</th>\n",
              "        </tr>\n",
              "    </thead>\n",
              "    <tbody>\n",
              "        <tr>\n",
              "            <td>1</td>\n",
              "            <td>1</td>\n",
              "            <td>2</td>\n",
              "            <td>85.5</td>\n",
              "            <td>2015-01-01</td>\n",
              "            <td>None</td>\n",
              "        </tr>\n",
              "        <tr>\n",
              "            <td>2</td>\n",
              "            <td>2</td>\n",
              "            <td>2</td>\n",
              "            <td>105.5</td>\n",
              "            <td>2019-03-20</td>\n",
              "            <td>None</td>\n",
              "        </tr>\n",
              "        <tr>\n",
              "            <td>3</td>\n",
              "            <td>3</td>\n",
              "            <td>3</td>\n",
              "            <td>37.5</td>\n",
              "            <td>2017-04-04</td>\n",
              "            <td>None</td>\n",
              "        </tr>\n",
              "        <tr>\n",
              "            <td>4</td>\n",
              "            <td>4</td>\n",
              "            <td>4</td>\n",
              "            <td>96.5</td>\n",
              "            <td>2018-10-13</td>\n",
              "            <td>None</td>\n",
              "        </tr>\n",
              "        <tr>\n",
              "            <td>5</td>\n",
              "            <td>5</td>\n",
              "            <td>5</td>\n",
              "            <td>26.5</td>\n",
              "            <td>2019-09-05</td>\n",
              "            <td>None</td>\n",
              "        </tr>\n",
              "        <tr>\n",
              "            <td>6</td>\n",
              "            <td>6</td>\n",
              "            <td>2</td>\n",
              "            <td>85.5</td>\n",
              "            <td>2012-02-03</td>\n",
              "            <td>None</td>\n",
              "        </tr>\n",
              "        <tr>\n",
              "            <td>7</td>\n",
              "            <td>7</td>\n",
              "            <td>3</td>\n",
              "            <td>50.5</td>\n",
              "            <td>2014-05-01</td>\n",
              "            <td>None</td>\n",
              "        </tr>\n",
              "        <tr>\n",
              "            <td>8</td>\n",
              "            <td>8</td>\n",
              "            <td>4</td>\n",
              "            <td>65.5</td>\n",
              "            <td>2016-03-04</td>\n",
              "            <td>None</td>\n",
              "        </tr>\n",
              "        <tr>\n",
              "            <td>9</td>\n",
              "            <td>9</td>\n",
              "            <td>2</td>\n",
              "            <td>85.5</td>\n",
              "            <td>2017-04-03</td>\n",
              "            <td>None</td>\n",
              "        </tr>\n",
              "    </tbody>\n",
              "</table>"
            ],
            "text/plain": [
              "[(1, 1, 2, 85.5, '2015-01-01', None),\n",
              " (2, 2, 2, 105.5, '2019-03-20', None),\n",
              " (3, 3, 3, 37.5, '2017-04-04', None),\n",
              " (4, 4, 4, 96.5, '2018-10-13', None),\n",
              " (5, 5, 5, 26.5, '2019-09-05', None),\n",
              " (6, 6, 2, 85.5, '2012-02-03', None),\n",
              " (7, 7, 3, 50.5, '2014-05-01', None),\n",
              " (8, 8, 4, 65.5, '2016-03-04', None),\n",
              " (9, 9, 2, 85.5, '2017-04-03', None)]"
            ]
          },
          "metadata": {
            "tags": []
          },
          "execution_count": 15
        }
      ]
    },
    {
      "cell_type": "code",
      "metadata": {
        "id": "nNKTSZwdZ637",
        "colab": {
          "base_uri": "https://localhost:8080/"
        },
        "outputId": "176e1f31-1bbe-4dd2-ac79-e14508a5db19"
      },
      "source": [
        "%%sql\n",
        "\n",
        "/* Employee hourly billed activities */\n",
        "INSERT INTO EmployeeProjectActivity([project_id], [employee_position_id], [activity_id], [activity_date], [hours_billed]) VALUES (1, 1, 1, '2020-11-02', 21.50);\n",
        "INSERT INTO EmployeeProjectActivity([project_id], [employee_position_id], [activity_id], [activity_date], [hours_billed]) VALUES (1, 2, 2, '2020-11-03', 12.50);\n",
        "INSERT INTO EmployeeProjectActivity([project_id], [employee_position_id], [activity_id], [activity_date], [hours_billed]) VALUES (1, 3, 3, '2020-11-04', 44.75);"
      ],
      "execution_count": null,
      "outputs": [
        {
          "output_type": "stream",
          "text": [
            " * sqlite:///projectdb.db\n",
            "Done.\n",
            "1 rows affected.\n",
            "1 rows affected.\n"
          ],
          "name": "stdout"
        },
        {
          "output_type": "execute_result",
          "data": {
            "text/plain": [
              "[]"
            ]
          },
          "metadata": {
            "tags": []
          },
          "execution_count": 16
        }
      ]
    },
    {
      "cell_type": "code",
      "metadata": {
        "id": "_t4cQh5WayUd",
        "colab": {
          "base_uri": "https://localhost:8080/"
        },
        "outputId": "9d15a21e-b443-4da3-d4d0-87b4d4b157b3"
      },
      "source": [
        "%%sql\n",
        "\n",
        "/* Employee addresses */\n",
        "INSERT INTO EmployeeAddress([employee_id], [address_id], [start_date]) VALUES (1, 1, '2017-01-02');\n",
        "INSERT INTO EmployeeAddress([employee_id], [address_id], [start_date]) VALUES (1, 3, '2018-04-03');\n",
        "INSERT INTO EmployeeAddress([employee_id], [address_id], [start_date]) VALUES (1, 5, '2019-09-04');"
      ],
      "execution_count": null,
      "outputs": [
        {
          "output_type": "stream",
          "text": [
            " * sqlite:///projectdb.db\n",
            "Done.\n",
            "1 rows affected.\n",
            "1 rows affected.\n"
          ],
          "name": "stdout"
        },
        {
          "output_type": "execute_result",
          "data": {
            "text/plain": [
              "[]"
            ]
          },
          "metadata": {
            "tags": []
          },
          "execution_count": 17
        }
      ]
    },
    {
      "cell_type": "markdown",
      "metadata": {
        "id": "pRZHuQ88xqxA"
      },
      "source": [
        "## UPDATing Table record(s)"
      ]
    },
    {
      "cell_type": "code",
      "metadata": {
        "id": "5zGOopvBcJvY",
        "colab": {
          "base_uri": "https://localhost:8080/",
          "height": 149
        },
        "outputId": "863ac2ab-4d65-4752-dbb6-08b285392139"
      },
      "source": [
        "%%sql\n",
        "\n",
        "UPDATE EmployeeAddress\n",
        "  SET [end_date] = date()\n",
        "WHERE [employee_id] = 1 AND [address_id] = 5\n",
        ";\n",
        "\n",
        "SELECT * FROM EmployeeAddress;"
      ],
      "execution_count": null,
      "outputs": [
        {
          "output_type": "stream",
          "text": [
            " * sqlite:///projectdb.db\n",
            "1 rows affected.\n",
            "Done.\n"
          ],
          "name": "stdout"
        },
        {
          "output_type": "execute_result",
          "data": {
            "text/html": [
              "<table>\n",
              "    <thead>\n",
              "        <tr>\n",
              "            <th>employee_id</th>\n",
              "            <th>address_id</th>\n",
              "            <th>start_date</th>\n",
              "            <th>end_date</th>\n",
              "        </tr>\n",
              "    </thead>\n",
              "    <tbody>\n",
              "        <tr>\n",
              "            <td>1</td>\n",
              "            <td>1</td>\n",
              "            <td>2017-01-02</td>\n",
              "            <td>None</td>\n",
              "        </tr>\n",
              "        <tr>\n",
              "            <td>1</td>\n",
              "            <td>3</td>\n",
              "            <td>2018-04-03</td>\n",
              "            <td>None</td>\n",
              "        </tr>\n",
              "        <tr>\n",
              "            <td>1</td>\n",
              "            <td>5</td>\n",
              "            <td>2019-09-04</td>\n",
              "            <td>2021-06-04</td>\n",
              "        </tr>\n",
              "    </tbody>\n",
              "</table>"
            ],
            "text/plain": [
              "[(1, 1, '2017-01-02', None),\n",
              " (1, 3, '2018-04-03', None),\n",
              " (1, 5, '2019-09-04', '2021-06-04')]"
            ]
          },
          "metadata": {
            "tags": []
          },
          "execution_count": 18
        }
      ]
    },
    {
      "cell_type": "markdown",
      "metadata": {
        "id": "yvSjtosWx-7b"
      },
      "source": [
        "### SELECTing Table data"
      ]
    },
    {
      "cell_type": "code",
      "metadata": {
        "id": "0Fyp6Krs1nGS",
        "colab": {
          "base_uri": "https://localhost:8080/",
          "height": 192
        },
        "outputId": "f540b596-8a16-44ab-9142-df4fa823a96e"
      },
      "source": [
        "%%sql\n",
        "\n",
        "SELECT *\n",
        "FROM Address;\n"
      ],
      "execution_count": null,
      "outputs": [
        {
          "output_type": "stream",
          "text": [
            " * sqlite:///projectdb.db\n",
            "Done.\n"
          ],
          "name": "stdout"
        },
        {
          "output_type": "execute_result",
          "data": {
            "text/html": [
              "<table>\n",
              "    <thead>\n",
              "        <tr>\n",
              "            <th>id</th>\n",
              "            <th>street_number</th>\n",
              "            <th>street_name</th>\n",
              "            <th>zip_code</th>\n",
              "            <th>city</th>\n",
              "            <th>state</th>\n",
              "            <th>country</th>\n",
              "        </tr>\n",
              "    </thead>\n",
              "    <tbody>\n",
              "        <tr>\n",
              "            <td>1</td>\n",
              "            <td>2A</td>\n",
              "            <td>Lincoln Ave.</td>\n",
              "            <td>96522</td>\n",
              "            <td>Mankato</td>\n",
              "            <td>Mississippi</td>\n",
              "            <td>USA</td>\n",
              "        </tr>\n",
              "        <tr>\n",
              "            <td>2</td>\n",
              "            <td>Theodore Lowe</td>\n",
              "            <td>Ap #867-859 Sit Rd.</td>\n",
              "            <td>39531</td>\n",
              "            <td>Azusa</td>\n",
              "            <td>New York</td>\n",
              "            <td>USA</td>\n",
              "        </tr>\n",
              "        <tr>\n",
              "            <td>3</td>\n",
              "            <td>313</td>\n",
              "            <td>Pellentesque Ave</td>\n",
              "            <td>43526</td>\n",
              "            <td>Mankato</td>\n",
              "            <td>Hawaii</td>\n",
              "            <td>USA</td>\n",
              "        </tr>\n",
              "        <tr>\n",
              "            <td>4</td>\n",
              "            <td>987-4223</td>\n",
              "            <td>LUrna St.</td>\n",
              "            <td>96522</td>\n",
              "            <td>Savannah </td>\n",
              "            <td>Illinois</td>\n",
              "            <td>USA</td>\n",
              "        </tr>\n",
              "        <tr>\n",
              "            <td>5</td>\n",
              "            <td>Ap #784-1887</td>\n",
              "            <td>Lobortis Ave</td>\n",
              "            <td>31522</td>\n",
              "            <td>Cudahy</td>\n",
              "            <td>Ohio</td>\n",
              "            <td>USA</td>\n",
              "        </tr>\n",
              "        <tr>\n",
              "            <td>6</td>\n",
              "            <td>3714</td>\n",
              "            <td>Nascetur St</td>\n",
              "            <td>10626</td>\n",
              "            <td>Hawthorne</td>\n",
              "            <td>Louisiana</td>\n",
              "            <td>USA</td>\n",
              "        </tr>\n",
              "    </tbody>\n",
              "</table>"
            ],
            "text/plain": [
              "[(1, '2A', 'Lincoln Ave.', '96522', 'Mankato', 'Mississippi', 'USA'),\n",
              " (2, 'Theodore Lowe', 'Ap #867-859 Sit Rd.', '39531', 'Azusa', 'New York', 'USA'),\n",
              " (3, '313', 'Pellentesque Ave', '43526', 'Mankato', 'Hawaii', 'USA'),\n",
              " (4, '987-4223', 'LUrna St.', '96522', 'Savannah ', 'Illinois', 'USA'),\n",
              " (5, 'Ap #784-1887', 'Lobortis Ave', '31522', 'Cudahy', 'Ohio', 'USA'),\n",
              " (6, '3714', 'Nascetur St', '10626', 'Hawthorne', 'Louisiana', 'USA')]"
            ]
          },
          "metadata": {
            "tags": []
          },
          "execution_count": 19
        }
      ]
    },
    {
      "cell_type": "code",
      "metadata": {
        "id": "BsNw0Hqr1uGD",
        "colab": {
          "base_uri": "https://localhost:8080/",
          "height": 192
        },
        "outputId": "fc2a08dc-915d-43f9-dfb2-85f2f44df4b0"
      },
      "source": [
        "%%sql\n",
        "\n",
        "SELECT DISTINCT street_name, zip_code, city\n",
        "FROM Address;"
      ],
      "execution_count": null,
      "outputs": [
        {
          "output_type": "stream",
          "text": [
            " * sqlite:///projectdb.db\n",
            "Done.\n"
          ],
          "name": "stdout"
        },
        {
          "output_type": "execute_result",
          "data": {
            "text/html": [
              "<table>\n",
              "    <thead>\n",
              "        <tr>\n",
              "            <th>street_name</th>\n",
              "            <th>zip_code</th>\n",
              "            <th>city</th>\n",
              "        </tr>\n",
              "    </thead>\n",
              "    <tbody>\n",
              "        <tr>\n",
              "            <td>Lincoln Ave.</td>\n",
              "            <td>96522</td>\n",
              "            <td>Mankato</td>\n",
              "        </tr>\n",
              "        <tr>\n",
              "            <td>Ap #867-859 Sit Rd.</td>\n",
              "            <td>39531</td>\n",
              "            <td>Azusa</td>\n",
              "        </tr>\n",
              "        <tr>\n",
              "            <td>Pellentesque Ave</td>\n",
              "            <td>43526</td>\n",
              "            <td>Mankato</td>\n",
              "        </tr>\n",
              "        <tr>\n",
              "            <td>LUrna St.</td>\n",
              "            <td>96522</td>\n",
              "            <td>Savannah </td>\n",
              "        </tr>\n",
              "        <tr>\n",
              "            <td>Lobortis Ave</td>\n",
              "            <td>31522</td>\n",
              "            <td>Cudahy</td>\n",
              "        </tr>\n",
              "        <tr>\n",
              "            <td>Nascetur St</td>\n",
              "            <td>10626</td>\n",
              "            <td>Hawthorne</td>\n",
              "        </tr>\n",
              "    </tbody>\n",
              "</table>"
            ],
            "text/plain": [
              "[('Lincoln Ave.', '96522', 'Mankato'),\n",
              " ('Ap #867-859 Sit Rd.', '39531', 'Azusa'),\n",
              " ('Pellentesque Ave', '43526', 'Mankato'),\n",
              " ('LUrna St.', '96522', 'Savannah '),\n",
              " ('Lobortis Ave', '31522', 'Cudahy'),\n",
              " ('Nascetur St', '10626', 'Hawthorne')]"
            ]
          },
          "metadata": {
            "tags": []
          },
          "execution_count": 21
        }
      ]
    },
    {
      "cell_type": "code",
      "metadata": {
        "id": "Yqkcwr0YjgBt",
        "colab": {
          "base_uri": "https://localhost:8080/",
          "height": 252
        },
        "outputId": "4bfd63f5-4043-436b-b634-5ba2a027314a"
      },
      "source": [
        "# https://www.sqlite.org/lang_datefunc.html\n",
        "%%sql\n",
        "\n",
        "SELECT emp.*\n",
        "  , strftime('%Y', date_of_birth) AS year_of_birth\n",
        "  , strftime('%Y',date()) - strftime('%Y', date_of_birth) As age\n",
        "FROM Employee emp\n",
        ";"
      ],
      "execution_count": null,
      "outputs": [
        {
          "output_type": "stream",
          "text": [
            " * sqlite:///projectdb.db\n",
            "Done.\n"
          ],
          "name": "stdout"
        },
        {
          "output_type": "execute_result",
          "data": {
            "text/html": [
              "<table>\n",
              "    <thead>\n",
              "        <tr>\n",
              "            <th>id</th>\n",
              "            <th>surname</th>\n",
              "            <th>firstname</th>\n",
              "            <th>middlename</th>\n",
              "            <th>date_of_birth</th>\n",
              "            <th>active</th>\n",
              "            <th>year_of_birth</th>\n",
              "            <th>age</th>\n",
              "        </tr>\n",
              "    </thead>\n",
              "    <tbody>\n",
              "        <tr>\n",
              "            <td>1</td>\n",
              "            <td>Arbough</td>\n",
              "            <td>June</td>\n",
              "            <td>Earl</td>\n",
              "            <td>1998-03-10</td>\n",
              "            <td>1</td>\n",
              "            <td>1998</td>\n",
              "            <td>23</td>\n",
              "        </tr>\n",
              "        <tr>\n",
              "            <td>2</td>\n",
              "            <td>News</td>\n",
              "            <td>John</td>\n",
              "            <td>Gerald</td>\n",
              "            <td>1965-03-10</td>\n",
              "            <td>1</td>\n",
              "            <td>1965</td>\n",
              "            <td>56</td>\n",
              "        </tr>\n",
              "        <tr>\n",
              "            <td>3</td>\n",
              "            <td>Johnson</td>\n",
              "            <td>Alice</td>\n",
              "            <td>Karen</td>\n",
              "            <td>1980-04-03</td>\n",
              "            <td>1</td>\n",
              "            <td>1980</td>\n",
              "            <td>41</td>\n",
              "        </tr>\n",
              "        <tr>\n",
              "            <td>4</td>\n",
              "            <td>Smithfield</td>\n",
              "            <td>William</td>\n",
              "            <td></td>\n",
              "            <td>1968-09-17</td>\n",
              "            <td>1</td>\n",
              "            <td>1968</td>\n",
              "            <td>53</td>\n",
              "        </tr>\n",
              "        <tr>\n",
              "            <td>5</td>\n",
              "            <td>Senior</td>\n",
              "            <td>David</td>\n",
              "            <td>Harold</td>\n",
              "            <td>1975-06-14</td>\n",
              "            <td>1</td>\n",
              "            <td>1975</td>\n",
              "            <td>46</td>\n",
              "        </tr>\n",
              "        <tr>\n",
              "            <td>6</td>\n",
              "            <td>Annelise</td>\n",
              "            <td>Jones</td>\n",
              "            <td></td>\n",
              "            <td>1970-04-20</td>\n",
              "            <td>1</td>\n",
              "            <td>1970</td>\n",
              "            <td>51</td>\n",
              "        </tr>\n",
              "        <tr>\n",
              "            <td>7</td>\n",
              "            <td>Frommer</td>\n",
              "            <td>James</td>\n",
              "            <td>John</td>\n",
              "            <td>1997-06-12</td>\n",
              "            <td>1</td>\n",
              "            <td>1997</td>\n",
              "            <td>24</td>\n",
              "        </tr>\n",
              "        <tr>\n",
              "            <td>8</td>\n",
              "            <td>Ramoras</td>\n",
              "            <td>Anne</td>\n",
              "            <td>Katie</td>\n",
              "            <td>1985-01-23</td>\n",
              "            <td>1</td>\n",
              "            <td>1985</td>\n",
              "            <td>36</td>\n",
              "        </tr>\n",
              "        <tr>\n",
              "            <td>9</td>\n",
              "            <td>Smithson</td>\n",
              "            <td>David</td>\n",
              "            <td>Mary</td>\n",
              "            <td>1960-05-04</td>\n",
              "            <td>1</td>\n",
              "            <td>1960</td>\n",
              "            <td>61</td>\n",
              "        </tr>\n",
              "    </tbody>\n",
              "</table>"
            ],
            "text/plain": [
              "[(1, 'Arbough', 'June', 'Earl', '1998-03-10', 1, '1998', 23),\n",
              " (2, 'News', 'John', 'Gerald', '1965-03-10', 1, '1965', 56),\n",
              " (3, 'Johnson', 'Alice', 'Karen', '1980-04-03', 1, '1980', 41),\n",
              " (4, 'Smithfield', 'William', '', '1968-09-17', 1, '1968', 53),\n",
              " (5, 'Senior', 'David', 'Harold', '1975-06-14', 1, '1975', 46),\n",
              " (6, 'Annelise', 'Jones', '', '1970-04-20', 1, '1970', 51),\n",
              " (7, 'Frommer', 'James', 'John', '1997-06-12', 1, '1997', 24),\n",
              " (8, 'Ramoras', 'Anne', 'Katie', '1985-01-23', 1, '1985', 36),\n",
              " (9, 'Smithson', 'David', 'Mary', '1960-05-04', 1, '1960', 61)]"
            ]
          },
          "metadata": {
            "tags": []
          },
          "execution_count": 22
        }
      ]
    },
    {
      "cell_type": "code",
      "metadata": {
        "id": "xof5ig1GmPzg",
        "colab": {
          "base_uri": "https://localhost:8080/",
          "height": 172
        },
        "outputId": "8c1309d8-1181-4df3-aad7-a9c12d1541f6"
      },
      "source": [
        "# https://www.sqlite.org/lang_corefunc.html#substr\n",
        "\n",
        "%%sql\n",
        "\n",
        "SELECT emp.id\n",
        "  , emp.surname\n",
        "  , emp.firstname\n",
        "  , UPPER(surname) || ' ' || firstname || ' ' || SUBSTR(middlename, 1, 1) as employee_name\n",
        "  , strftime('%Y', date_of_birth) AS year_of_birth\n",
        "  , strftime('%Y',date()) - strftime('%Y', date_of_birth) As age\n",
        "FROM Employee emp\n",
        "WHERE (strftime('%Y',date()) - strftime('%Y', date_of_birth)) > 45;"
      ],
      "execution_count": null,
      "outputs": [
        {
          "output_type": "stream",
          "text": [
            " * sqlite:///projectdb.db\n",
            "Done.\n"
          ],
          "name": "stdout"
        },
        {
          "output_type": "execute_result",
          "data": {
            "text/html": [
              "<table>\n",
              "    <thead>\n",
              "        <tr>\n",
              "            <th>id</th>\n",
              "            <th>surname</th>\n",
              "            <th>firstname</th>\n",
              "            <th>employee_name</th>\n",
              "            <th>year_of_birth</th>\n",
              "            <th>age</th>\n",
              "        </tr>\n",
              "    </thead>\n",
              "    <tbody>\n",
              "        <tr>\n",
              "            <td>2</td>\n",
              "            <td>News</td>\n",
              "            <td>John</td>\n",
              "            <td>NEWS John G</td>\n",
              "            <td>1965</td>\n",
              "            <td>56</td>\n",
              "        </tr>\n",
              "        <tr>\n",
              "            <td>4</td>\n",
              "            <td>Smithfield</td>\n",
              "            <td>William</td>\n",
              "            <td>SMITHFIELD William </td>\n",
              "            <td>1968</td>\n",
              "            <td>53</td>\n",
              "        </tr>\n",
              "        <tr>\n",
              "            <td>5</td>\n",
              "            <td>Senior</td>\n",
              "            <td>David</td>\n",
              "            <td>SENIOR David H</td>\n",
              "            <td>1975</td>\n",
              "            <td>46</td>\n",
              "        </tr>\n",
              "        <tr>\n",
              "            <td>6</td>\n",
              "            <td>Annelise</td>\n",
              "            <td>Jones</td>\n",
              "            <td>ANNELISE Jones </td>\n",
              "            <td>1970</td>\n",
              "            <td>51</td>\n",
              "        </tr>\n",
              "        <tr>\n",
              "            <td>9</td>\n",
              "            <td>Smithson</td>\n",
              "            <td>David</td>\n",
              "            <td>SMITHSON David M</td>\n",
              "            <td>1960</td>\n",
              "            <td>61</td>\n",
              "        </tr>\n",
              "    </tbody>\n",
              "</table>"
            ],
            "text/plain": [
              "[(2, 'News', 'John', 'NEWS John G', '1965', 56),\n",
              " (4, 'Smithfield', 'William', 'SMITHFIELD William ', '1968', 53),\n",
              " (5, 'Senior', 'David', 'SENIOR David H', '1975', 46),\n",
              " (6, 'Annelise', 'Jones', 'ANNELISE Jones ', '1970', 51),\n",
              " (9, 'Smithson', 'David', 'SMITHSON David M', '1960', 61)]"
            ]
          },
          "metadata": {
            "tags": []
          },
          "execution_count": 24
        }
      ]
    },
    {
      "cell_type": "code",
      "metadata": {
        "id": "pYYcwJMmoluB",
        "colab": {
          "base_uri": "https://localhost:8080/",
          "height": 263
        },
        "outputId": "a91d6388-0faa-48b2-d771-1b29137568f2"
      },
      "source": [
        "# Using a LEFT JOIN\n",
        "%%sql\n",
        "\n",
        "\n",
        "SELECT e.id AS position_id\n",
        "  , e.employee_id\n",
        "  , UPPER(emp.surname) || ' ' || emp.firstname || ' ' || SUBSTR(emp.middlename, 1, 1) as employee_name\n",
        "  , strftime('%Y',date()) - strftime('%Y', emp.date_of_birth) As age\n",
        "  , p.position   As job_role\n",
        "FROM EmployeePosition e\n",
        "LEFT JOIN Employee emp ON e.employee_id = emp.id\n",
        "LEFT JOIN Position p ON e.position_id = p.id"
      ],
      "execution_count": null,
      "outputs": [
        {
          "output_type": "stream",
          "text": [
            " * sqlite:///projectdb.db\n",
            "Done.\n"
          ],
          "name": "stdout"
        },
        {
          "output_type": "execute_result",
          "data": {
            "text/html": [
              "<table>\n",
              "    <tr>\n",
              "        <th>position_id</th>\n",
              "        <th>employee_id</th>\n",
              "        <th>employee_name</th>\n",
              "        <th>age</th>\n",
              "        <th>job_role</th>\n",
              "    </tr>\n",
              "    <tr>\n",
              "        <td>1</td>\n",
              "        <td>1</td>\n",
              "        <td>ARBOUGH June E</td>\n",
              "        <td>22</td>\n",
              "        <td>Database Designer</td>\n",
              "    </tr>\n",
              "    <tr>\n",
              "        <td>2</td>\n",
              "        <td>2</td>\n",
              "        <td>NEWS John G</td>\n",
              "        <td>55</td>\n",
              "        <td>Database Designer</td>\n",
              "    </tr>\n",
              "    <tr>\n",
              "        <td>3</td>\n",
              "        <td>3</td>\n",
              "        <td>JOHNSON Alice K</td>\n",
              "        <td>40</td>\n",
              "        <td>Programmer</td>\n",
              "    </tr>\n",
              "    <tr>\n",
              "        <td>4</td>\n",
              "        <td>4</td>\n",
              "        <td>SMITHFIELD William </td>\n",
              "        <td>52</td>\n",
              "        <td>Systems Analyst</td>\n",
              "    </tr>\n",
              "    <tr>\n",
              "        <td>5</td>\n",
              "        <td>5</td>\n",
              "        <td>SENIOR David H</td>\n",
              "        <td>45</td>\n",
              "        <td>Applications Designer</td>\n",
              "    </tr>\n",
              "    <tr>\n",
              "        <td>6</td>\n",
              "        <td>6</td>\n",
              "        <td>ANNELISE Jones </td>\n",
              "        <td>50</td>\n",
              "        <td>Database Designer</td>\n",
              "    </tr>\n",
              "    <tr>\n",
              "        <td>7</td>\n",
              "        <td>7</td>\n",
              "        <td>FROMMER James J</td>\n",
              "        <td>23</td>\n",
              "        <td>Programmer</td>\n",
              "    </tr>\n",
              "    <tr>\n",
              "        <td>8</td>\n",
              "        <td>8</td>\n",
              "        <td>RAMORAS Anne K</td>\n",
              "        <td>35</td>\n",
              "        <td>Systems Analyst</td>\n",
              "    </tr>\n",
              "    <tr>\n",
              "        <td>9</td>\n",
              "        <td>9</td>\n",
              "        <td>SMITHSON David M</td>\n",
              "        <td>60</td>\n",
              "        <td>Database Designer</td>\n",
              "    </tr>\n",
              "</table>"
            ],
            "text/plain": [
              "[(1, 1, 'ARBOUGH June E', 22, 'Database Designer'),\n",
              " (2, 2, 'NEWS John G', 55, 'Database Designer'),\n",
              " (3, 3, 'JOHNSON Alice K', 40, 'Programmer'),\n",
              " (4, 4, 'SMITHFIELD William ', 52, 'Systems Analyst'),\n",
              " (5, 5, 'SENIOR David H', 45, 'Applications Designer'),\n",
              " (6, 6, 'ANNELISE Jones ', 50, 'Database Designer'),\n",
              " (7, 7, 'FROMMER James J', 23, 'Programmer'),\n",
              " (8, 8, 'RAMORAS Anne K', 35, 'Systems Analyst'),\n",
              " (9, 9, 'SMITHSON David M', 60, 'Database Designer')]"
            ]
          },
          "metadata": {
            "tags": []
          },
          "execution_count": 27
        }
      ]
    },
    {
      "cell_type": "code",
      "metadata": {
        "id": "z8n-c3UPqSs4",
        "colab": {
          "base_uri": "https://localhost:8080/",
          "height": 263
        },
        "outputId": "fbf8c57f-82d2-4230-8631-245eb8fb9293"
      },
      "source": [
        "# Using a INNER JOIN\n",
        "%%sql\n",
        "\n",
        "SELECT e.id\n",
        "  , e.employee_id\n",
        "  , UPPER(emp.surname) || ' ' || emp.firstname || ' ' || SUBSTR(emp.middlename, 1, 1) as employee_name\n",
        "  , strftime('%Y',date()) - strftime('%Y', emp.date_of_birth) As age\n",
        "  , p.position   As Job\n",
        "  , e.charge_per_hour\n",
        "FROM EmployeePosition e\n",
        "INNER JOIN Employee emp ON e.employee_id = emp.id\n",
        "INNER JOIN Position p ON e.position_id = p.id"
      ],
      "execution_count": null,
      "outputs": [
        {
          "output_type": "stream",
          "text": [
            " * sqlite:///projectdb.db\n",
            "Done.\n"
          ],
          "name": "stdout"
        },
        {
          "output_type": "execute_result",
          "data": {
            "text/html": [
              "<table>\n",
              "    <tr>\n",
              "        <th>id</th>\n",
              "        <th>employee_id</th>\n",
              "        <th>employee_name</th>\n",
              "        <th>age</th>\n",
              "        <th>Job</th>\n",
              "        <th>charge_per_hour</th>\n",
              "    </tr>\n",
              "    <tr>\n",
              "        <td>1</td>\n",
              "        <td>1</td>\n",
              "        <td>ARBOUGH June E</td>\n",
              "        <td>22</td>\n",
              "        <td>Database Designer</td>\n",
              "        <td>85.5</td>\n",
              "    </tr>\n",
              "    <tr>\n",
              "        <td>2</td>\n",
              "        <td>2</td>\n",
              "        <td>NEWS John G</td>\n",
              "        <td>55</td>\n",
              "        <td>Database Designer</td>\n",
              "        <td>105.5</td>\n",
              "    </tr>\n",
              "    <tr>\n",
              "        <td>3</td>\n",
              "        <td>3</td>\n",
              "        <td>JOHNSON Alice K</td>\n",
              "        <td>40</td>\n",
              "        <td>Programmer</td>\n",
              "        <td>37.5</td>\n",
              "    </tr>\n",
              "    <tr>\n",
              "        <td>4</td>\n",
              "        <td>4</td>\n",
              "        <td>SMITHFIELD William </td>\n",
              "        <td>52</td>\n",
              "        <td>Systems Analyst</td>\n",
              "        <td>96.5</td>\n",
              "    </tr>\n",
              "    <tr>\n",
              "        <td>5</td>\n",
              "        <td>5</td>\n",
              "        <td>SENIOR David H</td>\n",
              "        <td>45</td>\n",
              "        <td>Applications Designer</td>\n",
              "        <td>26.5</td>\n",
              "    </tr>\n",
              "    <tr>\n",
              "        <td>6</td>\n",
              "        <td>6</td>\n",
              "        <td>ANNELISE Jones </td>\n",
              "        <td>50</td>\n",
              "        <td>Database Designer</td>\n",
              "        <td>85.5</td>\n",
              "    </tr>\n",
              "    <tr>\n",
              "        <td>7</td>\n",
              "        <td>7</td>\n",
              "        <td>FROMMER James J</td>\n",
              "        <td>23</td>\n",
              "        <td>Programmer</td>\n",
              "        <td>50.5</td>\n",
              "    </tr>\n",
              "    <tr>\n",
              "        <td>8</td>\n",
              "        <td>8</td>\n",
              "        <td>RAMORAS Anne K</td>\n",
              "        <td>35</td>\n",
              "        <td>Systems Analyst</td>\n",
              "        <td>65.5</td>\n",
              "    </tr>\n",
              "    <tr>\n",
              "        <td>9</td>\n",
              "        <td>9</td>\n",
              "        <td>SMITHSON David M</td>\n",
              "        <td>60</td>\n",
              "        <td>Database Designer</td>\n",
              "        <td>85.5</td>\n",
              "    </tr>\n",
              "</table>"
            ],
            "text/plain": [
              "[(1, 1, 'ARBOUGH June E', 22, 'Database Designer', 85.5),\n",
              " (2, 2, 'NEWS John G', 55, 'Database Designer', 105.5),\n",
              " (3, 3, 'JOHNSON Alice K', 40, 'Programmer', 37.5),\n",
              " (4, 4, 'SMITHFIELD William ', 52, 'Systems Analyst', 96.5),\n",
              " (5, 5, 'SENIOR David H', 45, 'Applications Designer', 26.5),\n",
              " (6, 6, 'ANNELISE Jones ', 50, 'Database Designer', 85.5),\n",
              " (7, 7, 'FROMMER James J', 23, 'Programmer', 50.5),\n",
              " (8, 8, 'RAMORAS Anne K', 35, 'Systems Analyst', 65.5),\n",
              " (9, 9, 'SMITHSON David M', 60, 'Database Designer', 85.5)]"
            ]
          },
          "metadata": {
            "tags": []
          },
          "execution_count": 28
        }
      ]
    },
    {
      "cell_type": "code",
      "metadata": {
        "id": "mvyPY0PMqsSl",
        "colab": {
          "base_uri": "https://localhost:8080/"
        },
        "outputId": "e19290f9-896b-45c6-ecac-936ff6d5e9d2"
      },
      "source": [
        "# Updating a record with the wrong foreign key - forcing the foreign key constraint to kick in and deny the transaction.\n",
        "%%sql\n",
        "\n",
        "UPDATE EmployeePosition\n",
        "SET position_id = 7\n",
        "WHERE id = 9;"
      ],
      "execution_count": null,
      "outputs": [
        {
          "output_type": "stream",
          "text": [
            " * sqlite:///projectdb.db\n",
            "1 rows affected.\n"
          ],
          "name": "stdout"
        },
        {
          "output_type": "execute_result",
          "data": {
            "text/plain": [
              "[]"
            ]
          },
          "metadata": {
            "tags": []
          },
          "execution_count": 25
        }
      ]
    },
    {
      "cell_type": "code",
      "metadata": {
        "id": "_Jq3jK35G55n",
        "colab": {
          "base_uri": "https://localhost:8080/"
        },
        "outputId": "bc6cfa87-badc-4c1f-fe74-9901dff55b73"
      },
      "source": [
        "%%sql\n",
        "\n",
        "UPDATE EmployeePosition\n",
        "SET position_id = NULL\n",
        "WHERE id = 9;"
      ],
      "execution_count": null,
      "outputs": [
        {
          "output_type": "stream",
          "text": [
            " * sqlite:///projectdb.db\n",
            "1 rows affected.\n"
          ],
          "name": "stdout"
        },
        {
          "output_type": "execute_result",
          "data": {
            "text/plain": [
              "[]"
            ]
          },
          "metadata": {
            "tags": []
          },
          "execution_count": 26
        }
      ]
    },
    {
      "cell_type": "code",
      "metadata": {
        "id": "ag3nKP_DrEhI",
        "colab": {
          "base_uri": "https://localhost:8080/",
          "height": 232
        },
        "outputId": "966bb692-2af4-40c6-d8ea-1f764d92e564"
      },
      "source": [
        "%%sql\n",
        "\n",
        "SELECT e.id\n",
        "  , e.employee_id\n",
        "  , UPPER(emp.surname) || ' ' || emp.firstname || ' ' || SUBSTR(emp.middlename, 1, 1) as employee_name\n",
        "  , strftime('%Y',date()) - strftime('%Y', emp.date_of_birth) As age\n",
        "  , p.position   As Job\n",
        "  , e.charge_per_hour\n",
        "FROM EmployeePosition e\n",
        "INNER JOIN Employee emp ON e.employee_id = emp.id\n",
        "INNER JOIN Position p ON e.position_id = p.id"
      ],
      "execution_count": null,
      "outputs": [
        {
          "output_type": "stream",
          "text": [
            " * sqlite:///projectdb.db\n",
            "Done.\n"
          ],
          "name": "stdout"
        },
        {
          "output_type": "execute_result",
          "data": {
            "text/html": [
              "<table>\n",
              "    <thead>\n",
              "        <tr>\n",
              "            <th>id</th>\n",
              "            <th>employee_id</th>\n",
              "            <th>employee_name</th>\n",
              "            <th>age</th>\n",
              "            <th>Job</th>\n",
              "            <th>charge_per_hour</th>\n",
              "        </tr>\n",
              "    </thead>\n",
              "    <tbody>\n",
              "        <tr>\n",
              "            <td>1</td>\n",
              "            <td>1</td>\n",
              "            <td>ARBOUGH June E</td>\n",
              "            <td>23</td>\n",
              "            <td>Database Designer</td>\n",
              "            <td>85.5</td>\n",
              "        </tr>\n",
              "        <tr>\n",
              "            <td>2</td>\n",
              "            <td>2</td>\n",
              "            <td>NEWS John G</td>\n",
              "            <td>56</td>\n",
              "            <td>Database Designer</td>\n",
              "            <td>105.5</td>\n",
              "        </tr>\n",
              "        <tr>\n",
              "            <td>3</td>\n",
              "            <td>3</td>\n",
              "            <td>JOHNSON Alice K</td>\n",
              "            <td>41</td>\n",
              "            <td>Programmer</td>\n",
              "            <td>37.5</td>\n",
              "        </tr>\n",
              "        <tr>\n",
              "            <td>4</td>\n",
              "            <td>4</td>\n",
              "            <td>SMITHFIELD William </td>\n",
              "            <td>53</td>\n",
              "            <td>Systems Analyst</td>\n",
              "            <td>96.5</td>\n",
              "        </tr>\n",
              "        <tr>\n",
              "            <td>5</td>\n",
              "            <td>5</td>\n",
              "            <td>SENIOR David H</td>\n",
              "            <td>46</td>\n",
              "            <td>Applications Designer</td>\n",
              "            <td>26.5</td>\n",
              "        </tr>\n",
              "        <tr>\n",
              "            <td>6</td>\n",
              "            <td>6</td>\n",
              "            <td>ANNELISE Jones </td>\n",
              "            <td>51</td>\n",
              "            <td>Database Designer</td>\n",
              "            <td>85.5</td>\n",
              "        </tr>\n",
              "        <tr>\n",
              "            <td>7</td>\n",
              "            <td>7</td>\n",
              "            <td>FROMMER James J</td>\n",
              "            <td>24</td>\n",
              "            <td>Programmer</td>\n",
              "            <td>50.5</td>\n",
              "        </tr>\n",
              "        <tr>\n",
              "            <td>8</td>\n",
              "            <td>8</td>\n",
              "            <td>RAMORAS Anne K</td>\n",
              "            <td>36</td>\n",
              "            <td>Systems Analyst</td>\n",
              "            <td>65.5</td>\n",
              "        </tr>\n",
              "    </tbody>\n",
              "</table>"
            ],
            "text/plain": [
              "[(1, 1, 'ARBOUGH June E', 23, 'Database Designer', 85.5),\n",
              " (2, 2, 'NEWS John G', 56, 'Database Designer', 105.5),\n",
              " (3, 3, 'JOHNSON Alice K', 41, 'Programmer', 37.5),\n",
              " (4, 4, 'SMITHFIELD William ', 53, 'Systems Analyst', 96.5),\n",
              " (5, 5, 'SENIOR David H', 46, 'Applications Designer', 26.5),\n",
              " (6, 6, 'ANNELISE Jones ', 51, 'Database Designer', 85.5),\n",
              " (7, 7, 'FROMMER James J', 24, 'Programmer', 50.5),\n",
              " (8, 8, 'RAMORAS Anne K', 36, 'Systems Analyst', 65.5)]"
            ]
          },
          "metadata": {
            "tags": []
          },
          "execution_count": 27
        }
      ]
    },
    {
      "cell_type": "code",
      "metadata": {
        "id": "am4MDNQvrLX4",
        "colab": {
          "base_uri": "https://localhost:8080/",
          "height": 169
        },
        "outputId": "8faf80c4-32d9-494d-ee7f-82959c845a8d"
      },
      "source": [
        "%%sql\n",
        "\n",
        "UPDATE EmployeePosition\n",
        "SET position_id = 2\n",
        "WHERE id = 9;\n",
        "\n",
        "SELECT\n",
        "  p.position   As Job\n",
        "  , AVG(e.charge_per_hour) As Average\n",
        "FROM EmployeePosition e\n",
        "LEFT JOIN Position p ON e.position_id = p.id\n",
        "GROUP BY p.position\n",
        "ORDER BY Average DESC\n"
      ],
      "execution_count": null,
      "outputs": [
        {
          "output_type": "stream",
          "text": [
            " * sqlite:///projectdb.db\n",
            "1 rows affected.\n",
            "Done.\n"
          ],
          "name": "stdout"
        },
        {
          "output_type": "execute_result",
          "data": {
            "text/html": [
              "<table>\n",
              "    <thead>\n",
              "        <tr>\n",
              "            <th>Job</th>\n",
              "            <th>Average</th>\n",
              "        </tr>\n",
              "    </thead>\n",
              "    <tbody>\n",
              "        <tr>\n",
              "            <td>Database Designer</td>\n",
              "            <td>90.5</td>\n",
              "        </tr>\n",
              "        <tr>\n",
              "            <td>Systems Analyst</td>\n",
              "            <td>81.0</td>\n",
              "        </tr>\n",
              "        <tr>\n",
              "            <td>Programmer</td>\n",
              "            <td>44.0</td>\n",
              "        </tr>\n",
              "        <tr>\n",
              "            <td>Applications Designer</td>\n",
              "            <td>26.5</td>\n",
              "        </tr>\n",
              "    </tbody>\n",
              "</table>"
            ],
            "text/plain": [
              "[('Database Designer', 90.5),\n",
              " ('Systems Analyst', 81.0),\n",
              " ('Programmer', 44.0),\n",
              " ('Applications Designer', 26.5)]"
            ]
          },
          "metadata": {
            "tags": []
          },
          "execution_count": 28
        }
      ]
    },
    {
      "cell_type": "code",
      "metadata": {
        "id": "i6lisl51vEla",
        "colab": {
          "base_uri": "https://localhost:8080/",
          "height": 152
        },
        "outputId": "4d2a11db-d0ba-4141-9cc1-d664fadd595b"
      },
      "source": [
        "%%sql\n",
        "\n",
        "SELECT\n",
        "  p.position   As Job\n",
        "  , COUNT(DISTINCT emp.id) As EmployeeCount\n",
        "  , AVG(e.charge_per_hour) As AveragePay\n",
        "  , MIN(e.charge_per_hour) As MinPay\n",
        "  , MAX(e.charge_per_hour) As MaxPay\n",
        "FROM EmployeePosition e\n",
        "LEFT JOIN Employee emp ON e.employee_id = emp.id\n",
        "LEFT JOIN Position p ON e.position_id = p.id\n",
        "GROUP BY p.position\n",
        "ORDER BY AveragePay DESC"
      ],
      "execution_count": null,
      "outputs": [
        {
          "output_type": "stream",
          "text": [
            " * sqlite:///projectdb.db\n",
            "Done.\n"
          ],
          "name": "stdout"
        },
        {
          "output_type": "execute_result",
          "data": {
            "text/html": [
              "<table>\n",
              "    <thead>\n",
              "        <tr>\n",
              "            <th>Job</th>\n",
              "            <th>EmployeeCount</th>\n",
              "            <th>AveragePay</th>\n",
              "            <th>MinPay</th>\n",
              "            <th>MaxPay</th>\n",
              "        </tr>\n",
              "    </thead>\n",
              "    <tbody>\n",
              "        <tr>\n",
              "            <td>Database Designer</td>\n",
              "            <td>4</td>\n",
              "            <td>90.5</td>\n",
              "            <td>85.5</td>\n",
              "            <td>105.5</td>\n",
              "        </tr>\n",
              "        <tr>\n",
              "            <td>Systems Analyst</td>\n",
              "            <td>2</td>\n",
              "            <td>81.0</td>\n",
              "            <td>65.5</td>\n",
              "            <td>96.5</td>\n",
              "        </tr>\n",
              "        <tr>\n",
              "            <td>Programmer</td>\n",
              "            <td>2</td>\n",
              "            <td>44.0</td>\n",
              "            <td>37.5</td>\n",
              "            <td>50.5</td>\n",
              "        </tr>\n",
              "        <tr>\n",
              "            <td>Applications Designer</td>\n",
              "            <td>1</td>\n",
              "            <td>26.5</td>\n",
              "            <td>26.5</td>\n",
              "            <td>26.5</td>\n",
              "        </tr>\n",
              "    </tbody>\n",
              "</table>"
            ],
            "text/plain": [
              "[('Database Designer', 4, 90.5, 85.5, 105.5),\n",
              " ('Systems Analyst', 2, 81.0, 65.5, 96.5),\n",
              " ('Programmer', 2, 44.0, 37.5, 50.5),\n",
              " ('Applications Designer', 1, 26.5, 26.5, 26.5)]"
            ]
          },
          "metadata": {
            "tags": []
          },
          "execution_count": 29
        }
      ]
    },
    {
      "cell_type": "code",
      "metadata": {
        "id": "-mUP0NoFU0KB",
        "colab": {
          "base_uri": "https://localhost:8080/",
          "height": 112
        },
        "outputId": "20a0f2e0-afd1-424a-d38f-39a545962508"
      },
      "source": [
        "%%sql\n",
        "\n",
        "SELECT\n",
        "  p.position   As Job\n",
        "  , COUNT(DISTINCT emp.id) As EmployeeCount\n",
        "  , AVG(e.charge_per_hour) As AveragePay\n",
        "  , MIN(e.charge_per_hour) As MinPay\n",
        "  , MAX(e.charge_per_hour) As MaxPay\n",
        "FROM EmployeePosition e\n",
        "LEFT JOIN Employee emp ON e.employee_id = emp.id\n",
        "LEFT JOIN Position p ON e.position_id = p.id\n",
        "GROUP BY p.position\n",
        "HAVING AVG(e.charge_per_hour) < 50.0\n",
        "ORDER BY AveragePay DESC"
      ],
      "execution_count": null,
      "outputs": [
        {
          "output_type": "stream",
          "text": [
            " * sqlite:///projectdb.db\n",
            "Done.\n"
          ],
          "name": "stdout"
        },
        {
          "output_type": "execute_result",
          "data": {
            "text/html": [
              "<table>\n",
              "    <thead>\n",
              "        <tr>\n",
              "            <th>Job</th>\n",
              "            <th>EmployeeCount</th>\n",
              "            <th>AveragePay</th>\n",
              "            <th>MinPay</th>\n",
              "            <th>MaxPay</th>\n",
              "        </tr>\n",
              "    </thead>\n",
              "    <tbody>\n",
              "        <tr>\n",
              "            <td>Programmer</td>\n",
              "            <td>2</td>\n",
              "            <td>44.0</td>\n",
              "            <td>37.5</td>\n",
              "            <td>50.5</td>\n",
              "        </tr>\n",
              "        <tr>\n",
              "            <td>Applications Designer</td>\n",
              "            <td>1</td>\n",
              "            <td>26.5</td>\n",
              "            <td>26.5</td>\n",
              "            <td>26.5</td>\n",
              "        </tr>\n",
              "    </tbody>\n",
              "</table>"
            ],
            "text/plain": [
              "[('Programmer', 2, 44.0, 37.5, 50.5),\n",
              " ('Applications Designer', 1, 26.5, 26.5, 26.5)]"
            ]
          },
          "metadata": {
            "tags": []
          },
          "execution_count": 30
        }
      ]
    },
    {
      "cell_type": "markdown",
      "metadata": {
        "id": "vV7SfMp7LHY1"
      },
      "source": [
        "### Recreating the denormalized dataset for reporting\n",
        "\n"
      ]
    },
    {
      "cell_type": "code",
      "metadata": {
        "id": "bRncfLRjvvQ7",
        "colab": {
          "base_uri": "https://localhost:8080/",
          "height": 132
        },
        "outputId": "ffdb626b-3d1e-4116-a0a4-aa500fd05ef2"
      },
      "source": [
        "%%sql\n",
        "\n",
        "SELECT pa.id\n",
        ", p.project_name\n",
        ", UPPER(emp.surname) || ' ' || emp.firstname || ' ' || SUBSTR(emp.middlename, 1, 1) as employee_name\n",
        ", pos.position\n",
        ", strftime('%Y',date()) - strftime('%Y', emp.date_of_birth) As age\n",
        ", a.activity\n",
        ", pa.activity_date\n",
        ", ep.charge_per_hour\n",
        ", pa.hours_billed\n",
        ", ad.street_number || ' ' || ad.street_name || ' ' || ad.city || ' ' || ad.zip_code || ', ' || ad.state As address_summary\n",
        ", ep.charge_per_hour * pa.hours_billed AS total_charge\n",
        "FROM EmployeeProjectActivity pa\n",
        "LEFT JOIN EmployeePosition ep ON ep.id = pa.employee_position_id\n",
        "INNER JOIN Employee emp ON ep.employee_id = emp.id\n",
        "LEFT JOIN WorkProject p ON p.id = pa.project_id\n",
        "LEFT JOIN Activity a ON a.id = pa.activity_id\n",
        "LEFT JOIN Position pos ON ep.position_id = pos.id\n",
        "LEFT JOIN Address ad ON p.address_id = ad.id\n",
        ";"
      ],
      "execution_count": null,
      "outputs": [
        {
          "output_type": "stream",
          "text": [
            " * sqlite:///projectdb.db\n",
            "Done.\n"
          ],
          "name": "stdout"
        },
        {
          "output_type": "execute_result",
          "data": {
            "text/html": [
              "<table>\n",
              "    <thead>\n",
              "        <tr>\n",
              "            <th>id</th>\n",
              "            <th>project_name</th>\n",
              "            <th>employee_name</th>\n",
              "            <th>position</th>\n",
              "            <th>age</th>\n",
              "            <th>activity</th>\n",
              "            <th>activity_date</th>\n",
              "            <th>charge_per_hour</th>\n",
              "            <th>hours_billed</th>\n",
              "            <th>address_summary</th>\n",
              "            <th>total_charge</th>\n",
              "        </tr>\n",
              "    </thead>\n",
              "    <tbody>\n",
              "        <tr>\n",
              "            <td>1</td>\n",
              "            <td>Evergreen</td>\n",
              "            <td>ARBOUGH June E</td>\n",
              "            <td>Database Designer</td>\n",
              "            <td>23</td>\n",
              "            <td>Weekly Project Meeting</td>\n",
              "            <td>2020-11-02</td>\n",
              "            <td>85.5</td>\n",
              "            <td>21.5</td>\n",
              "            <td>Theodore Lowe Ap #867-859 Sit Rd. Azusa 39531, New York</td>\n",
              "            <td>1838.25</td>\n",
              "        </tr>\n",
              "        <tr>\n",
              "            <td>2</td>\n",
              "            <td>Evergreen</td>\n",
              "            <td>NEWS John G</td>\n",
              "            <td>Database Designer</td>\n",
              "            <td>56</td>\n",
              "            <td>Requirements Gathering</td>\n",
              "            <td>2020-11-03</td>\n",
              "            <td>105.5</td>\n",
              "            <td>12.5</td>\n",
              "            <td>Theodore Lowe Ap #867-859 Sit Rd. Azusa 39531, New York</td>\n",
              "            <td>1318.75</td>\n",
              "        </tr>\n",
              "        <tr>\n",
              "            <td>3</td>\n",
              "            <td>Evergreen</td>\n",
              "            <td>JOHNSON Alice K</td>\n",
              "            <td>Programmer</td>\n",
              "            <td>41</td>\n",
              "            <td>Inventory Analysis</td>\n",
              "            <td>2020-11-04</td>\n",
              "            <td>37.5</td>\n",
              "            <td>44.75</td>\n",
              "            <td>Theodore Lowe Ap #867-859 Sit Rd. Azusa 39531, New York</td>\n",
              "            <td>1678.125</td>\n",
              "        </tr>\n",
              "    </tbody>\n",
              "</table>"
            ],
            "text/plain": [
              "[(1, 'Evergreen', 'ARBOUGH June E', 'Database Designer', 23, 'Weekly Project Meeting', '2020-11-02', 85.5, 21.5, 'Theodore Lowe Ap #867-859 Sit Rd. Azusa 39531, New York', 1838.25),\n",
              " (2, 'Evergreen', 'NEWS John G', 'Database Designer', 56, 'Requirements Gathering', '2020-11-03', 105.5, 12.5, 'Theodore Lowe Ap #867-859 Sit Rd. Azusa 39531, New York', 1318.75),\n",
              " (3, 'Evergreen', 'JOHNSON Alice K', 'Programmer', 41, 'Inventory Analysis', '2020-11-04', 37.5, 44.75, 'Theodore Lowe Ap #867-859 Sit Rd. Azusa 39531, New York', 1678.125)]"
            ]
          },
          "metadata": {
            "tags": []
          },
          "execution_count": 31
        }
      ]
    },
    {
      "cell_type": "markdown",
      "metadata": {
        "id": "PV-PkT2hWpZm"
      },
      "source": [
        "### DELETing data from our tables."
      ]
    },
    {
      "cell_type": "code",
      "metadata": {
        "id": "9A6GArHzWtcP",
        "colab": {
          "base_uri": "https://localhost:8080/",
          "height": 232
        },
        "outputId": "f931b006-60b8-479e-8663-fc3a01ea2547"
      },
      "source": [
        "%%sql\n",
        "\n",
        "SELECT *\n",
        "FROM Position\n",
        ";"
      ],
      "execution_count": null,
      "outputs": [
        {
          "output_type": "stream",
          "text": [
            " * sqlite:///projectdb.db\n",
            "Done.\n"
          ],
          "name": "stdout"
        },
        {
          "output_type": "execute_result",
          "data": {
            "text/html": [
              "<table>\n",
              "    <thead>\n",
              "        <tr>\n",
              "            <th>id</th>\n",
              "            <th>position</th>\n",
              "            <th>active</th>\n",
              "        </tr>\n",
              "    </thead>\n",
              "    <tbody>\n",
              "        <tr>\n",
              "            <td>1</td>\n",
              "            <td>Elec. Engineer</td>\n",
              "            <td>1</td>\n",
              "        </tr>\n",
              "        <tr>\n",
              "            <td>2</td>\n",
              "            <td>Database Designer</td>\n",
              "            <td>1</td>\n",
              "        </tr>\n",
              "        <tr>\n",
              "            <td>3</td>\n",
              "            <td>Programmer</td>\n",
              "            <td>1</td>\n",
              "        </tr>\n",
              "        <tr>\n",
              "            <td>4</td>\n",
              "            <td>Systems Analyst</td>\n",
              "            <td>1</td>\n",
              "        </tr>\n",
              "        <tr>\n",
              "            <td>5</td>\n",
              "            <td>Applications Designer</td>\n",
              "            <td>1</td>\n",
              "        </tr>\n",
              "        <tr>\n",
              "            <td>6</td>\n",
              "            <td>General Support</td>\n",
              "            <td>1</td>\n",
              "        </tr>\n",
              "        <tr>\n",
              "            <td>7</td>\n",
              "            <td>DSS Analyst</td>\n",
              "            <td>1</td>\n",
              "        </tr>\n",
              "        <tr>\n",
              "            <td>8</td>\n",
              "            <td>Clerical Support</td>\n",
              "            <td>1</td>\n",
              "        </tr>\n",
              "    </tbody>\n",
              "</table>"
            ],
            "text/plain": [
              "[(1, 'Elec. Engineer', 1),\n",
              " (2, 'Database Designer', 1),\n",
              " (3, 'Programmer', 1),\n",
              " (4, 'Systems Analyst', 1),\n",
              " (5, 'Applications Designer', 1),\n",
              " (6, 'General Support', 1),\n",
              " (7, 'DSS Analyst', 1),\n",
              " (8, 'Clerical Support', 1)]"
            ]
          },
          "metadata": {
            "tags": []
          },
          "execution_count": 32
        }
      ]
    },
    {
      "cell_type": "code",
      "metadata": {
        "id": "gnOIJbq2W0Js",
        "colab": {
          "base_uri": "https://localhost:8080/"
        },
        "outputId": "58d248b8-eb76-4146-f8e6-62d9f18bb2ba"
      },
      "source": [
        "%%sql\n",
        "DELETE FROM Position\n",
        "WHERE id = 2;\n"
      ],
      "execution_count": null,
      "outputs": [
        {
          "output_type": "stream",
          "text": [
            " * sqlite:///projectdb.db\n",
            "1 rows affected.\n"
          ],
          "name": "stdout"
        },
        {
          "output_type": "execute_result",
          "data": {
            "text/plain": [
              "[]"
            ]
          },
          "metadata": {
            "tags": []
          },
          "execution_count": 33
        }
      ]
    },
    {
      "cell_type": "code",
      "metadata": {
        "id": "QZ3hdPlzXCjC",
        "colab": {
          "base_uri": "https://localhost:8080/",
          "height": 212
        },
        "outputId": "bda143ac-9119-4977-f54b-fd0fbfdc1833"
      },
      "source": [
        "%%sql\n",
        "\n",
        "SELECT *\n",
        "FROM Position\n",
        ";"
      ],
      "execution_count": null,
      "outputs": [
        {
          "output_type": "stream",
          "text": [
            " * sqlite:///projectdb.db\n",
            "Done.\n"
          ],
          "name": "stdout"
        },
        {
          "output_type": "execute_result",
          "data": {
            "text/html": [
              "<table>\n",
              "    <thead>\n",
              "        <tr>\n",
              "            <th>id</th>\n",
              "            <th>position</th>\n",
              "            <th>active</th>\n",
              "        </tr>\n",
              "    </thead>\n",
              "    <tbody>\n",
              "        <tr>\n",
              "            <td>1</td>\n",
              "            <td>Elec. Engineer</td>\n",
              "            <td>1</td>\n",
              "        </tr>\n",
              "        <tr>\n",
              "            <td>3</td>\n",
              "            <td>Programmer</td>\n",
              "            <td>1</td>\n",
              "        </tr>\n",
              "        <tr>\n",
              "            <td>4</td>\n",
              "            <td>Systems Analyst</td>\n",
              "            <td>1</td>\n",
              "        </tr>\n",
              "        <tr>\n",
              "            <td>5</td>\n",
              "            <td>Applications Designer</td>\n",
              "            <td>1</td>\n",
              "        </tr>\n",
              "        <tr>\n",
              "            <td>6</td>\n",
              "            <td>General Support</td>\n",
              "            <td>1</td>\n",
              "        </tr>\n",
              "        <tr>\n",
              "            <td>7</td>\n",
              "            <td>DSS Analyst</td>\n",
              "            <td>1</td>\n",
              "        </tr>\n",
              "        <tr>\n",
              "            <td>8</td>\n",
              "            <td>Clerical Support</td>\n",
              "            <td>1</td>\n",
              "        </tr>\n",
              "    </tbody>\n",
              "</table>"
            ],
            "text/plain": [
              "[(1, 'Elec. Engineer', 1),\n",
              " (3, 'Programmer', 1),\n",
              " (4, 'Systems Analyst', 1),\n",
              " (5, 'Applications Designer', 1),\n",
              " (6, 'General Support', 1),\n",
              " (7, 'DSS Analyst', 1),\n",
              " (8, 'Clerical Support', 1)]"
            ]
          },
          "metadata": {
            "tags": []
          },
          "execution_count": 34
        }
      ]
    },
    {
      "cell_type": "code",
      "metadata": {
        "id": "s90gfRPZXQDy",
        "colab": {
          "base_uri": "https://localhost:8080/",
          "height": 252
        },
        "outputId": "8a5451cd-adb6-418a-97a1-6e20254536af"
      },
      "source": [
        "%%sql\n",
        "\n",
        "SELECT *\n",
        "FROM EmployeePosition;"
      ],
      "execution_count": null,
      "outputs": [
        {
          "output_type": "stream",
          "text": [
            " * sqlite:///projectdb.db\n",
            "Done.\n"
          ],
          "name": "stdout"
        },
        {
          "output_type": "execute_result",
          "data": {
            "text/html": [
              "<table>\n",
              "    <thead>\n",
              "        <tr>\n",
              "            <th>id</th>\n",
              "            <th>employee_id</th>\n",
              "            <th>position_id</th>\n",
              "            <th>charge_per_hour</th>\n",
              "            <th>start_date</th>\n",
              "            <th>end_date</th>\n",
              "        </tr>\n",
              "    </thead>\n",
              "    <tbody>\n",
              "        <tr>\n",
              "            <td>1</td>\n",
              "            <td>1</td>\n",
              "            <td>None</td>\n",
              "            <td>85.5</td>\n",
              "            <td>2015-01-01</td>\n",
              "            <td>None</td>\n",
              "        </tr>\n",
              "        <tr>\n",
              "            <td>2</td>\n",
              "            <td>2</td>\n",
              "            <td>None</td>\n",
              "            <td>105.5</td>\n",
              "            <td>2019-03-20</td>\n",
              "            <td>None</td>\n",
              "        </tr>\n",
              "        <tr>\n",
              "            <td>3</td>\n",
              "            <td>3</td>\n",
              "            <td>3</td>\n",
              "            <td>37.5</td>\n",
              "            <td>2017-04-04</td>\n",
              "            <td>None</td>\n",
              "        </tr>\n",
              "        <tr>\n",
              "            <td>4</td>\n",
              "            <td>4</td>\n",
              "            <td>4</td>\n",
              "            <td>96.5</td>\n",
              "            <td>2018-10-13</td>\n",
              "            <td>None</td>\n",
              "        </tr>\n",
              "        <tr>\n",
              "            <td>5</td>\n",
              "            <td>5</td>\n",
              "            <td>5</td>\n",
              "            <td>26.5</td>\n",
              "            <td>2019-09-05</td>\n",
              "            <td>None</td>\n",
              "        </tr>\n",
              "        <tr>\n",
              "            <td>6</td>\n",
              "            <td>6</td>\n",
              "            <td>None</td>\n",
              "            <td>85.5</td>\n",
              "            <td>2012-02-03</td>\n",
              "            <td>None</td>\n",
              "        </tr>\n",
              "        <tr>\n",
              "            <td>7</td>\n",
              "            <td>7</td>\n",
              "            <td>3</td>\n",
              "            <td>50.5</td>\n",
              "            <td>2014-05-01</td>\n",
              "            <td>None</td>\n",
              "        </tr>\n",
              "        <tr>\n",
              "            <td>8</td>\n",
              "            <td>8</td>\n",
              "            <td>4</td>\n",
              "            <td>65.5</td>\n",
              "            <td>2016-03-04</td>\n",
              "            <td>None</td>\n",
              "        </tr>\n",
              "        <tr>\n",
              "            <td>9</td>\n",
              "            <td>9</td>\n",
              "            <td>None</td>\n",
              "            <td>85.5</td>\n",
              "            <td>2017-04-03</td>\n",
              "            <td>None</td>\n",
              "        </tr>\n",
              "    </tbody>\n",
              "</table>"
            ],
            "text/plain": [
              "[(1, 1, None, 85.5, '2015-01-01', None),\n",
              " (2, 2, None, 105.5, '2019-03-20', None),\n",
              " (3, 3, 3, 37.5, '2017-04-04', None),\n",
              " (4, 4, 4, 96.5, '2018-10-13', None),\n",
              " (5, 5, 5, 26.5, '2019-09-05', None),\n",
              " (6, 6, None, 85.5, '2012-02-03', None),\n",
              " (7, 7, 3, 50.5, '2014-05-01', None),\n",
              " (8, 8, 4, 65.5, '2016-03-04', None),\n",
              " (9, 9, None, 85.5, '2017-04-03', None)]"
            ]
          },
          "metadata": {
            "tags": []
          },
          "execution_count": 36
        }
      ]
    },
    {
      "cell_type": "code",
      "metadata": {
        "id": "9YTQ74anXbdj",
        "colab": {
          "base_uri": "https://localhost:8080/",
          "height": 179
        },
        "outputId": "e2bfbac9-ce26-4463-9210-32438af8368d"
      },
      "source": [
        "%%sql\n",
        "\n",
        "SELECT e.id\n",
        "  , e.employee_id\n",
        "  , UPPER(emp.surname) || ' ' || emp.firstname || ' ' || SUBSTR(emp.middlename, 1, 1) as employee_name\n",
        "  , strftime('%Y',date()) - strftime('%Y', emp.date_of_birth) As age\n",
        "  , p.position   As Job\n",
        "  , e.charge_per_hour\n",
        "FROM EmployeePosition e\n",
        "INNER JOIN Employee emp ON e.employee_id = emp.id\n",
        "INNER JOIN Position p ON e.position_id = p.id"
      ],
      "execution_count": null,
      "outputs": [
        {
          "output_type": "stream",
          "text": [
            " * sqlite:///projectdb.db\n",
            "Done.\n"
          ],
          "name": "stdout"
        },
        {
          "output_type": "execute_result",
          "data": {
            "text/html": [
              "<table>\n",
              "    <tr>\n",
              "        <th>id</th>\n",
              "        <th>employee_id</th>\n",
              "        <th>employee_name</th>\n",
              "        <th>age</th>\n",
              "        <th>Job</th>\n",
              "        <th>charge_per_hour</th>\n",
              "    </tr>\n",
              "    <tr>\n",
              "        <td>3</td>\n",
              "        <td>3</td>\n",
              "        <td>JOHNSON Alice K</td>\n",
              "        <td>40</td>\n",
              "        <td>Programmer</td>\n",
              "        <td>37.5</td>\n",
              "    </tr>\n",
              "    <tr>\n",
              "        <td>4</td>\n",
              "        <td>4</td>\n",
              "        <td>SMITHFIELD William </td>\n",
              "        <td>52</td>\n",
              "        <td>Systems Analyst</td>\n",
              "        <td>96.5</td>\n",
              "    </tr>\n",
              "    <tr>\n",
              "        <td>5</td>\n",
              "        <td>5</td>\n",
              "        <td>SENIOR David H</td>\n",
              "        <td>45</td>\n",
              "        <td>Applications Designer</td>\n",
              "        <td>26.5</td>\n",
              "    </tr>\n",
              "    <tr>\n",
              "        <td>7</td>\n",
              "        <td>7</td>\n",
              "        <td>FROMMER James J</td>\n",
              "        <td>23</td>\n",
              "        <td>Programmer</td>\n",
              "        <td>50.5</td>\n",
              "    </tr>\n",
              "    <tr>\n",
              "        <td>8</td>\n",
              "        <td>8</td>\n",
              "        <td>RAMORAS Anne K</td>\n",
              "        <td>35</td>\n",
              "        <td>Systems Analyst</td>\n",
              "        <td>65.5</td>\n",
              "    </tr>\n",
              "</table>"
            ],
            "text/plain": [
              "[(3, 3, 'JOHNSON Alice K', 40, 'Programmer', 37.5),\n",
              " (4, 4, 'SMITHFIELD William ', 52, 'Systems Analyst', 96.5),\n",
              " (5, 5, 'SENIOR David H', 45, 'Applications Designer', 26.5),\n",
              " (7, 7, 'FROMMER James J', 23, 'Programmer', 50.5),\n",
              " (8, 8, 'RAMORAS Anne K', 35, 'Systems Analyst', 65.5)]"
            ]
          },
          "metadata": {
            "tags": []
          },
          "execution_count": 40
        }
      ]
    }
  ]
}